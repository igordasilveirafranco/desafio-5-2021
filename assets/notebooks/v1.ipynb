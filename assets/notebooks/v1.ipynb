{
 "cells": [
  {
   "cell_type": "code",
   "execution_count": 1,
   "metadata": {},
   "outputs": [],
   "source": [
    "import pandas as pd\n",
    "import matplotlib.pyplot as plt\n",
    "import seaborn as sns\n",
    "import numpy as np"
   ]
  },
  {
   "cell_type": "code",
   "execution_count": 179,
   "metadata": {
    "scrolled": true
   },
   "outputs": [],
   "source": [
    "# Carregue aqui o dataset\n",
    "dataset = pd.read_csv(\"..\\data\\dataset.csv\")\n",
    "answers = pd.read_csv(\"..\\data\\ANSWERS.csv\")"
   ]
  },
  {
   "cell_type": "markdown",
   "metadata": {},
   "source": [
    "## Exploracao de dados"
   ]
  },
  {
   "cell_type": "code",
   "execution_count": null,
   "metadata": {},
   "outputs": [],
   "source": [
    "dataset.info()"
   ]
  },
  {
   "cell_type": "code",
   "execution_count": null,
   "metadata": {},
   "outputs": [],
   "source": [
    "dataset.describe()"
   ]
  },
  {
   "cell_type": "code",
   "execution_count": null,
   "metadata": {},
   "outputs": [],
   "source": [
    "dataset.isnull().sum()"
   ]
  },
  {
   "cell_type": "code",
   "execution_count": null,
   "metadata": {},
   "outputs": [],
   "source": [
    "dataset.nunique()"
   ]
  },
  {
   "cell_type": "code",
   "execution_count": null,
   "metadata": {},
   "outputs": [],
   "source": [
    "dataset.head(10)"
   ]
  },
  {
   "cell_type": "code",
   "execution_count": 131,
   "metadata": {},
   "outputs": [
    {
     "data": {
      "text/plain": [
       "<AxesSubplot:>"
      ]
     },
     "execution_count": 131,
     "metadata": {},
     "output_type": "execute_result"
    },
    {
     "data": {
      "image/png": "[encoded data removed]",
      "text/plain": [
       "<Figure size 432x288 with 1 Axes>"
      ]
     },
     "metadata": {
      "needs_background": "light"
     },
     "output_type": "display_data"
    }
   ],
   "source": [
    "sns.heatmap(dataset.isnull(),yticklabels=False,cbar=False)"
   ]
  },
  {
   "cell_type": "code",
   "execution_count": 113,
   "metadata": {},
   "outputs": [
    {
     "data": {
      "image/png": "[encoded data removed]",
      "text/plain": [
       "<Figure size 432x288 with 1 Axes>"
      ]
     },
     "metadata": {
      "needs_background": "light"
     },
     "output_type": "display_data"
    }
   ],
   "source": [
    "risk_plot = sns.countplot(data=dataset, x='CHURN', order=dataset['CHURN'].value_counts().index)\n",
    "plt.show()"
   ]
  },
  {
   "cell_type": "code",
   "execution_count": 180,
   "metadata": {},
   "outputs": [
    {
     "name": "stdout",
     "output_type": "stream",
     "text": [
      "ID\n",
      "[3418 6865 2799 ... 7587 4176 5802]\n",
      "GENDER\n",
      "['Female' 'Male' nan]\n",
      "SENIORCITIZEN\n",
      "[ 0.  1. nan]\n",
      "PARTNER\n",
      "['No' 'Yes' nan]\n",
      "DEPENDENTS\n",
      "['No' 'Yes' nan]\n",
      "TENURE\n",
      "[26. 39.  1. 66. 56.  3. 14. 72. 28. 54.  4. 22. 16. 42. 35. 51. 46. 25.\n",
      " 23.  2. 24.  8. 71. 50. 20. 69. 15. 27. 62. 13. 55. 31.  7. 61. 58. 18.\n",
      " 64. 45. 41.  9. 44. 10. 19. 36. 43.  5. 33. 37. 68. 70. 48. 47. 60. 59.\n",
      " 29. 11. 17. 52. 57. 40. 12. 49. 30. 65. 53. 34. 32. 21.  6. 63. 67. 38.\n",
      " nan  0.]\n",
      "PHONESERVICE\n",
      "['Yes' 'No' nan]\n",
      "MULTIPLELINES\n",
      "['No' 'Yes' 'No phone service' nan]\n",
      "INTERNETSERVICE\n",
      "['DSL' 'Fiber optic' 'No' nan]\n",
      "ONLINESECURITY\n",
      "['No' 'No internet service' 'Yes' nan]\n",
      "ONLINEBACKUP\n",
      "['Yes' 'No' 'No internet service' nan]\n",
      "DEVICEPROTECTION\n",
      "['Yes' 'No' 'No internet service' nan]\n",
      "TECHSUPPORT\n",
      "['No' 'No internet service' 'Yes' nan]\n",
      "STREAMINGTV\n",
      "['No' 'No internet service' 'Yes' nan]\n",
      "STREAMINGMOVIES\n",
      "['No' 'No internet service' 'Yes' nan]\n",
      "CONTRACT\n",
      "['Month-to-month' 'Two year' 'One year' nan]\n",
      "PAPERLESSBILLING\n",
      "['Yes' 'No' nan]\n",
      "PAYMENTMETHOD\n",
      "['Credit card (automatic)' 'Electronic check' 'Mailed check'\n",
      " 'Bank transfer (automatic)' nan]\n",
      "MONTHLYCHARGES\n",
      "[131.55  79.61   9.26 ... 200.74  13.07 158.75]\n",
      "TOTALCHARGES\n",
      "['1483.7' '2737.31' '9.26' ... '1500.07' '1375.42' '2012.0']\n",
      "CHURN\n",
      "['No' 'Yes']\n"
     ]
    }
   ],
   "source": [
    "for item in dataset.columns:\n",
    "    print(item)\n",
    "    print (dataset[item].unique())"
   ]
  },
  {
   "cell_type": "markdown",
   "metadata": {},
   "source": [
    "## Manipulação dos datasets"
   ]
  },
  {
   "cell_type": "code",
   "execution_count": 181,
   "metadata": {},
   "outputs": [],
   "source": [
    "dataset = dataset.dropna()"
   ]
  },
  {
   "cell_type": "code",
   "execution_count": 182,
   "metadata": {},
   "outputs": [],
   "source": [
    "dataset.TOTALCHARGES = dataset.TOTALCHARGES.replace(r'\\s+', 0, regex=True)\n",
    "dataset.TOTALCHARGES = pd.to_numeric(dataset.TOTALCHARGES)"
   ]
  },
  {
   "cell_type": "code",
   "execution_count": 183,
   "metadata": {},
   "outputs": [],
   "source": [
    "from sklearn.preprocessing import OneHotEncoder, OrdinalEncoder, LabelEncoder\n",
    "le = LabelEncoder()\n",
    "cols = ['GENDER', 'PAYMENTMETHOD']\n",
    "dataset[cols] = dataset[cols].apply(LabelEncoder().fit_transform)\n",
    "\n",
    "dataset.SENIORCITIZEN = dataset.SENIORCITIZEN.astype('int')\n",
    "dataset.PARTNER = dataset.PARTNER.replace({'No':0,'Yes':1})\n",
    "dataset.DEPENDENTS = dataset.DEPENDENTS.replace({'No':0,'Yes':1})\n",
    "dataset.PHONESERVICE = dataset.PHONESERVICE.replace({'No':0,'Yes':1})\n",
    "dataset.MULTIPLELINES = dataset.MULTIPLELINES.replace({'No phone service':0,'No':1,'Yes':2})\n",
    "dataset.INTERNETSERVICE = dataset.INTERNETSERVICE.replace({'No':0,'DSL':1,'Fiber optic':2})\n",
    "dataset.ONLINESECURITY = dataset.ONLINESECURITY.replace({'No internet service':0, 'No':0,'Yes':1})\n",
    "dataset.ONLINEBACKUP = dataset.ONLINEBACKUP.replace({'No internet service':0, 'No':0,'Yes':1})\n",
    "dataset.DEVICEPROTECTION = dataset.DEVICEPROTECTION.replace({'No internet service':0, 'No':0,'Yes':1})\n",
    "dataset.TECHSUPPORT = dataset.TECHSUPPORT.replace({'No internet service':0, 'No':0,'Yes':1})\n",
    "dataset.STREAMINGTV = dataset.STREAMINGTV.replace({'No internet service':0, 'No':0,'Yes':1})\n",
    "dataset.STREAMINGMOVIES = dataset.STREAMINGMOVIES.replace({'No internet service':0, 'No':0,'Yes':1})\n",
    "dataset.CONTRACT = dataset.CONTRACT.replace({'Month-to-month':0,'One year':1, 'Two year':2})\n",
    "dataset.PAPERLESSBILLING = dataset.PAPERLESSBILLING.replace({'No':0,'Yes':1})\n",
    "dataset.MONTHLYCHARGES = dataset.MONTHLYCHARGES.astype('float')\n",
    "dataset.TOTALCHARGES = dataset.TOTALCHARGES.astype('float')\n",
    "dataset.CHURN = dataset.CHURN.replace({'No':0,'Yes':1})"
   ]
  },
  {
   "cell_type": "code",
   "execution_count": 184,
   "metadata": {},
   "outputs": [
    {
     "data": {
      "text/html": [
       "<div>\n",
       "<style scoped>\n",
       "    .dataframe tbody tr th:only-of-type {\n",
       "        vertical-align: middle;\n",
       "    }\n",
       "\n",
       "    .dataframe tbody tr th {\n",
       "        vertical-align: top;\n",
       "    }\n",
       "\n",
       "    .dataframe thead th {\n",
       "        text-align: right;\n",
       "    }\n",
       "</style>\n",
       "<table border=\"1\" class=\"dataframe\">\n",
       "  <thead>\n",
       "    <tr style=\"text-align: right;\">\n",
       "      <th></th>\n",
       "      <th>ID</th>\n",
       "      <th>GENDER</th>\n",
       "      <th>SENIORCITIZEN</th>\n",
       "      <th>PARTNER</th>\n",
       "      <th>DEPENDENTS</th>\n",
       "      <th>TENURE</th>\n",
       "      <th>PHONESERVICE</th>\n",
       "      <th>MULTIPLELINES</th>\n",
       "      <th>INTERNETSERVICE</th>\n",
       "      <th>ONLINESECURITY</th>\n",
       "      <th>...</th>\n",
       "      <th>DEVICEPROTECTION</th>\n",
       "      <th>TECHSUPPORT</th>\n",
       "      <th>STREAMINGTV</th>\n",
       "      <th>STREAMINGMOVIES</th>\n",
       "      <th>CONTRACT</th>\n",
       "      <th>PAPERLESSBILLING</th>\n",
       "      <th>PAYMENTMETHOD</th>\n",
       "      <th>MONTHLYCHARGES</th>\n",
       "      <th>TOTALCHARGES</th>\n",
       "      <th>CHURN</th>\n",
       "    </tr>\n",
       "  </thead>\n",
       "  <tbody>\n",
       "    <tr>\n",
       "      <th>ID</th>\n",
       "      <td>1.000000</td>\n",
       "      <td>-0.027839</td>\n",
       "      <td>-0.008728</td>\n",
       "      <td>-0.024926</td>\n",
       "      <td>-0.024167</td>\n",
       "      <td>-0.028442</td>\n",
       "      <td>-2.102897e-02</td>\n",
       "      <td>-0.013549</td>\n",
       "      <td>-0.025721</td>\n",
       "      <td>-0.055889</td>\n",
       "      <td>...</td>\n",
       "      <td>-0.021616</td>\n",
       "      <td>-0.045518</td>\n",
       "      <td>-0.027413</td>\n",
       "      <td>-0.027225</td>\n",
       "      <td>-0.052660</td>\n",
       "      <td>0.017154</td>\n",
       "      <td>0.038567</td>\n",
       "      <td>-0.035313</td>\n",
       "      <td>-0.046690</td>\n",
       "      <td>1.444865e-02</td>\n",
       "    </tr>\n",
       "    <tr>\n",
       "      <th>GENDER</th>\n",
       "      <td>-0.027839</td>\n",
       "      <td>1.000000</td>\n",
       "      <td>-0.006554</td>\n",
       "      <td>0.012409</td>\n",
       "      <td>-0.027916</td>\n",
       "      <td>0.016442</td>\n",
       "      <td>8.950690e-03</td>\n",
       "      <td>0.022307</td>\n",
       "      <td>-0.024846</td>\n",
       "      <td>-0.047754</td>\n",
       "      <td>...</td>\n",
       "      <td>-0.001970</td>\n",
       "      <td>-0.023286</td>\n",
       "      <td>-0.039744</td>\n",
       "      <td>-0.004154</td>\n",
       "      <td>0.001154</td>\n",
       "      <td>0.000612</td>\n",
       "      <td>0.038762</td>\n",
       "      <td>-0.006528</td>\n",
       "      <td>0.012703</td>\n",
       "      <td>-9.287970e-03</td>\n",
       "    </tr>\n",
       "    <tr>\n",
       "      <th>SENIORCITIZEN</th>\n",
       "      <td>-0.008728</td>\n",
       "      <td>-0.006554</td>\n",
       "      <td>1.000000</td>\n",
       "      <td>0.018576</td>\n",
       "      <td>-0.221755</td>\n",
       "      <td>0.003291</td>\n",
       "      <td>2.329209e-02</td>\n",
       "      <td>0.120240</td>\n",
       "      <td>0.249270</td>\n",
       "      <td>-0.048641</td>\n",
       "      <td>...</td>\n",
       "      <td>0.048233</td>\n",
       "      <td>-0.078865</td>\n",
       "      <td>0.090545</td>\n",
       "      <td>0.102497</td>\n",
       "      <td>-0.144978</td>\n",
       "      <td>0.127988</td>\n",
       "      <td>-0.029520</td>\n",
       "      <td>0.146585</td>\n",
       "      <td>0.085955</td>\n",
       "      <td>1.552396e-01</td>\n",
       "    </tr>\n",
       "    <tr>\n",
       "      <th>PARTNER</th>\n",
       "      <td>-0.024926</td>\n",
       "      <td>0.012409</td>\n",
       "      <td>0.018576</td>\n",
       "      <td>1.000000</td>\n",
       "      <td>0.459223</td>\n",
       "      <td>0.401478</td>\n",
       "      <td>9.262911e-03</td>\n",
       "      <td>0.108980</td>\n",
       "      <td>0.009589</td>\n",
       "      <td>0.155165</td>\n",
       "      <td>...</td>\n",
       "      <td>0.174208</td>\n",
       "      <td>0.134564</td>\n",
       "      <td>0.115739</td>\n",
       "      <td>0.133707</td>\n",
       "      <td>0.298263</td>\n",
       "      <td>-0.035949</td>\n",
       "      <td>-0.148825</td>\n",
       "      <td>0.038261</td>\n",
       "      <td>0.361374</td>\n",
       "      <td>-1.670444e-01</td>\n",
       "    </tr>\n",
       "    <tr>\n",
       "      <th>DEPENDENTS</th>\n",
       "      <td>-0.024167</td>\n",
       "      <td>-0.027916</td>\n",
       "      <td>-0.221755</td>\n",
       "      <td>0.459223</td>\n",
       "      <td>1.000000</td>\n",
       "      <td>0.189958</td>\n",
       "      <td>-7.685359e-03</td>\n",
       "      <td>-0.033695</td>\n",
       "      <td>-0.181941</td>\n",
       "      <td>0.092546</td>\n",
       "      <td>...</td>\n",
       "      <td>0.026349</td>\n",
       "      <td>0.093518</td>\n",
       "      <td>-0.033979</td>\n",
       "      <td>-0.021714</td>\n",
       "      <td>0.261891</td>\n",
       "      <td>-0.141197</td>\n",
       "      <td>-0.054019</td>\n",
       "      <td>-0.055625</td>\n",
       "      <td>0.089735</td>\n",
       "      <td>-1.916412e-01</td>\n",
       "    </tr>\n",
       "    <tr>\n",
       "      <th>TENURE</th>\n",
       "      <td>-0.028442</td>\n",
       "      <td>0.016442</td>\n",
       "      <td>0.003291</td>\n",
       "      <td>0.401478</td>\n",
       "      <td>0.189958</td>\n",
       "      <td>1.000000</td>\n",
       "      <td>7.357727e-03</td>\n",
       "      <td>0.262242</td>\n",
       "      <td>-0.008368</td>\n",
       "      <td>0.340490</td>\n",
       "      <td>...</td>\n",
       "      <td>0.353784</td>\n",
       "      <td>0.324567</td>\n",
       "      <td>0.242239</td>\n",
       "      <td>0.271402</td>\n",
       "      <td>0.690196</td>\n",
       "      <td>-0.026232</td>\n",
       "      <td>-0.380938</td>\n",
       "      <td>0.129465</td>\n",
       "      <td>0.861796</td>\n",
       "      <td>-4.049691e-01</td>\n",
       "    </tr>\n",
       "    <tr>\n",
       "      <th>PHONESERVICE</th>\n",
       "      <td>-0.021029</td>\n",
       "      <td>0.008951</td>\n",
       "      <td>0.023292</td>\n",
       "      <td>0.009263</td>\n",
       "      <td>-0.007685</td>\n",
       "      <td>0.007358</td>\n",
       "      <td>1.000000e+00</td>\n",
       "      <td>0.650548</td>\n",
       "      <td>0.149756</td>\n",
       "      <td>-0.061556</td>\n",
       "      <td>...</td>\n",
       "      <td>-0.041107</td>\n",
       "      <td>-0.074939</td>\n",
       "      <td>-0.020862</td>\n",
       "      <td>-0.023686</td>\n",
       "      <td>-0.009434</td>\n",
       "      <td>0.060945</td>\n",
       "      <td>0.000360</td>\n",
       "      <td>0.161342</td>\n",
       "      <td>0.107441</td>\n",
       "      <td>8.517809e-16</td>\n",
       "    </tr>\n",
       "    <tr>\n",
       "      <th>MULTIPLELINES</th>\n",
       "      <td>-0.013549</td>\n",
       "      <td>0.022307</td>\n",
       "      <td>0.120240</td>\n",
       "      <td>0.108980</td>\n",
       "      <td>-0.033695</td>\n",
       "      <td>0.262242</td>\n",
       "      <td>6.505481e-01</td>\n",
       "      <td>1.000000</td>\n",
       "      <td>0.349719</td>\n",
       "      <td>0.046420</td>\n",
       "      <td>...</td>\n",
       "      <td>0.134410</td>\n",
       "      <td>0.040876</td>\n",
       "      <td>0.181528</td>\n",
       "      <td>0.216150</td>\n",
       "      <td>0.062262</td>\n",
       "      <td>0.170737</td>\n",
       "      <td>-0.128097</td>\n",
       "      <td>0.306850</td>\n",
       "      <td>0.414320</td>\n",
       "      <td>2.366807e-02</td>\n",
       "    </tr>\n",
       "    <tr>\n",
       "      <th>INTERNETSERVICE</th>\n",
       "      <td>-0.025721</td>\n",
       "      <td>-0.024846</td>\n",
       "      <td>0.249270</td>\n",
       "      <td>0.009589</td>\n",
       "      <td>-0.181941</td>\n",
       "      <td>-0.008368</td>\n",
       "      <td>1.497563e-01</td>\n",
       "      <td>0.349719</td>\n",
       "      <td>1.000000</td>\n",
       "      <td>0.074585</td>\n",
       "      <td>...</td>\n",
       "      <td>0.254620</td>\n",
       "      <td>0.094660</td>\n",
       "      <td>0.392858</td>\n",
       "      <td>0.404770</td>\n",
       "      <td>-0.302347</td>\n",
       "      <td>0.375441</td>\n",
       "      <td>-0.088304</td>\n",
       "      <td>0.492172</td>\n",
       "      <td>0.335815</td>\n",
       "      <td>3.477126e-01</td>\n",
       "    </tr>\n",
       "    <tr>\n",
       "      <th>ONLINESECURITY</th>\n",
       "      <td>-0.055889</td>\n",
       "      <td>-0.047754</td>\n",
       "      <td>-0.048641</td>\n",
       "      <td>0.155165</td>\n",
       "      <td>0.092546</td>\n",
       "      <td>0.340490</td>\n",
       "      <td>-6.155589e-02</td>\n",
       "      <td>0.046420</td>\n",
       "      <td>0.074585</td>\n",
       "      <td>1.000000</td>\n",
       "      <td>...</td>\n",
       "      <td>0.229024</td>\n",
       "      <td>0.330231</td>\n",
       "      <td>0.137993</td>\n",
       "      <td>0.130362</td>\n",
       "      <td>0.282020</td>\n",
       "      <td>-0.049617</td>\n",
       "      <td>-0.195867</td>\n",
       "      <td>0.119248</td>\n",
       "      <td>0.384702</td>\n",
       "      <td>-2.123505e-01</td>\n",
       "    </tr>\n",
       "    <tr>\n",
       "      <th>ONLINEBACKUP</th>\n",
       "      <td>-0.016850</td>\n",
       "      <td>0.006246</td>\n",
       "      <td>0.037655</td>\n",
       "      <td>0.142146</td>\n",
       "      <td>0.022989</td>\n",
       "      <td>0.377407</td>\n",
       "      <td>-3.968379e-02</td>\n",
       "      <td>0.141787</td>\n",
       "      <td>0.235667</td>\n",
       "      <td>0.241225</td>\n",
       "      <td>...</td>\n",
       "      <td>0.294193</td>\n",
       "      <td>0.234136</td>\n",
       "      <td>0.214368</td>\n",
       "      <td>0.241727</td>\n",
       "      <td>0.195039</td>\n",
       "      <td>0.078703</td>\n",
       "      <td>-0.193825</td>\n",
       "      <td>0.207199</td>\n",
       "      <td>0.486865</td>\n",
       "      <td>-1.025200e-01</td>\n",
       "    </tr>\n",
       "    <tr>\n",
       "      <th>DEVICEPROTECTION</th>\n",
       "      <td>-0.021616</td>\n",
       "      <td>-0.001970</td>\n",
       "      <td>0.048233</td>\n",
       "      <td>0.174208</td>\n",
       "      <td>0.026349</td>\n",
       "      <td>0.353784</td>\n",
       "      <td>-4.110655e-02</td>\n",
       "      <td>0.134410</td>\n",
       "      <td>0.254620</td>\n",
       "      <td>0.229024</td>\n",
       "      <td>...</td>\n",
       "      <td>1.000000</td>\n",
       "      <td>0.276905</td>\n",
       "      <td>0.334815</td>\n",
       "      <td>0.354711</td>\n",
       "      <td>0.236211</td>\n",
       "      <td>0.038106</td>\n",
       "      <td>-0.176754</td>\n",
       "      <td>0.260342</td>\n",
       "      <td>0.481562</td>\n",
       "      <td>-8.272558e-02</td>\n",
       "    </tr>\n",
       "    <tr>\n",
       "      <th>TECHSUPPORT</th>\n",
       "      <td>-0.045518</td>\n",
       "      <td>-0.023286</td>\n",
       "      <td>-0.078865</td>\n",
       "      <td>0.134564</td>\n",
       "      <td>0.093518</td>\n",
       "      <td>0.324567</td>\n",
       "      <td>-7.493946e-02</td>\n",
       "      <td>0.040876</td>\n",
       "      <td>0.094660</td>\n",
       "      <td>0.330231</td>\n",
       "      <td>...</td>\n",
       "      <td>0.276905</td>\n",
       "      <td>1.000000</td>\n",
       "      <td>0.202012</td>\n",
       "      <td>0.220390</td>\n",
       "      <td>0.318780</td>\n",
       "      <td>-0.001411</td>\n",
       "      <td>-0.187968</td>\n",
       "      <td>0.154803</td>\n",
       "      <td>0.392955</td>\n",
       "      <td>-1.839675e-01</td>\n",
       "    </tr>\n",
       "    <tr>\n",
       "      <th>STREAMINGTV</th>\n",
       "      <td>-0.027413</td>\n",
       "      <td>-0.039744</td>\n",
       "      <td>0.090545</td>\n",
       "      <td>0.115739</td>\n",
       "      <td>-0.033979</td>\n",
       "      <td>0.242239</td>\n",
       "      <td>-2.086246e-02</td>\n",
       "      <td>0.181528</td>\n",
       "      <td>0.392858</td>\n",
       "      <td>0.137993</td>\n",
       "      <td>...</td>\n",
       "      <td>0.334815</td>\n",
       "      <td>0.202012</td>\n",
       "      <td>1.000000</td>\n",
       "      <td>0.518419</td>\n",
       "      <td>0.092273</td>\n",
       "      <td>0.209644</td>\n",
       "      <td>-0.130951</td>\n",
       "      <td>0.338235</td>\n",
       "      <td>0.441589</td>\n",
       "      <td>7.182839e-02</td>\n",
       "    </tr>\n",
       "    <tr>\n",
       "      <th>STREAMINGMOVIES</th>\n",
       "      <td>-0.027225</td>\n",
       "      <td>-0.004154</td>\n",
       "      <td>0.102497</td>\n",
       "      <td>0.133707</td>\n",
       "      <td>-0.021714</td>\n",
       "      <td>0.271402</td>\n",
       "      <td>-2.368591e-02</td>\n",
       "      <td>0.216150</td>\n",
       "      <td>0.404770</td>\n",
       "      <td>0.130362</td>\n",
       "      <td>...</td>\n",
       "      <td>0.354711</td>\n",
       "      <td>0.220390</td>\n",
       "      <td>0.518419</td>\n",
       "      <td>1.000000</td>\n",
       "      <td>0.087635</td>\n",
       "      <td>0.193884</td>\n",
       "      <td>-0.139787</td>\n",
       "      <td>0.341843</td>\n",
       "      <td>0.473973</td>\n",
       "      <td>6.493983e-02</td>\n",
       "    </tr>\n",
       "    <tr>\n",
       "      <th>CONTRACT</th>\n",
       "      <td>-0.052660</td>\n",
       "      <td>0.001154</td>\n",
       "      <td>-0.144978</td>\n",
       "      <td>0.298263</td>\n",
       "      <td>0.261891</td>\n",
       "      <td>0.690196</td>\n",
       "      <td>-9.434400e-03</td>\n",
       "      <td>0.062262</td>\n",
       "      <td>-0.302347</td>\n",
       "      <td>0.282020</td>\n",
       "      <td>...</td>\n",
       "      <td>0.236211</td>\n",
       "      <td>0.318780</td>\n",
       "      <td>0.092273</td>\n",
       "      <td>0.087635</td>\n",
       "      <td>1.000000</td>\n",
       "      <td>-0.189541</td>\n",
       "      <td>-0.258495</td>\n",
       "      <td>-0.033126</td>\n",
       "      <td>0.492068</td>\n",
       "      <td>-4.865017e-01</td>\n",
       "    </tr>\n",
       "    <tr>\n",
       "      <th>PAPERLESSBILLING</th>\n",
       "      <td>0.017154</td>\n",
       "      <td>0.000612</td>\n",
       "      <td>0.127988</td>\n",
       "      <td>-0.035949</td>\n",
       "      <td>-0.141197</td>\n",
       "      <td>-0.026232</td>\n",
       "      <td>6.094493e-02</td>\n",
       "      <td>0.170737</td>\n",
       "      <td>0.375441</td>\n",
       "      <td>-0.049617</td>\n",
       "      <td>...</td>\n",
       "      <td>0.038106</td>\n",
       "      <td>-0.001411</td>\n",
       "      <td>0.209644</td>\n",
       "      <td>0.193884</td>\n",
       "      <td>-0.189541</td>\n",
       "      <td>1.000000</td>\n",
       "      <td>-0.008632</td>\n",
       "      <td>0.161053</td>\n",
       "      <td>0.110830</td>\n",
       "      <td>2.165426e-01</td>\n",
       "    </tr>\n",
       "    <tr>\n",
       "      <th>PAYMENTMETHOD</th>\n",
       "      <td>0.038567</td>\n",
       "      <td>0.038762</td>\n",
       "      <td>-0.029520</td>\n",
       "      <td>-0.148825</td>\n",
       "      <td>-0.054019</td>\n",
       "      <td>-0.380938</td>\n",
       "      <td>3.604349e-04</td>\n",
       "      <td>-0.128097</td>\n",
       "      <td>-0.088304</td>\n",
       "      <td>-0.195867</td>\n",
       "      <td>...</td>\n",
       "      <td>-0.176754</td>\n",
       "      <td>-0.187968</td>\n",
       "      <td>-0.130951</td>\n",
       "      <td>-0.139787</td>\n",
       "      <td>-0.258495</td>\n",
       "      <td>-0.008632</td>\n",
       "      <td>1.000000</td>\n",
       "      <td>-0.139872</td>\n",
       "      <td>-0.344392</td>\n",
       "      <td>1.739699e-01</td>\n",
       "    </tr>\n",
       "    <tr>\n",
       "      <th>MONTHLYCHARGES</th>\n",
       "      <td>-0.035313</td>\n",
       "      <td>-0.006528</td>\n",
       "      <td>0.146585</td>\n",
       "      <td>0.038261</td>\n",
       "      <td>-0.055625</td>\n",
       "      <td>0.129465</td>\n",
       "      <td>1.613423e-01</td>\n",
       "      <td>0.306850</td>\n",
       "      <td>0.492172</td>\n",
       "      <td>0.119248</td>\n",
       "      <td>...</td>\n",
       "      <td>0.260342</td>\n",
       "      <td>0.154803</td>\n",
       "      <td>0.338235</td>\n",
       "      <td>0.341843</td>\n",
       "      <td>-0.033126</td>\n",
       "      <td>0.161053</td>\n",
       "      <td>-0.139872</td>\n",
       "      <td>1.000000</td>\n",
       "      <td>0.342737</td>\n",
       "      <td>8.170633e-02</td>\n",
       "    </tr>\n",
       "    <tr>\n",
       "      <th>TOTALCHARGES</th>\n",
       "      <td>-0.046690</td>\n",
       "      <td>0.012703</td>\n",
       "      <td>0.085955</td>\n",
       "      <td>0.361374</td>\n",
       "      <td>0.089735</td>\n",
       "      <td>0.861796</td>\n",
       "      <td>1.074407e-01</td>\n",
       "      <td>0.414320</td>\n",
       "      <td>0.335815</td>\n",
       "      <td>0.384702</td>\n",
       "      <td>...</td>\n",
       "      <td>0.481562</td>\n",
       "      <td>0.392955</td>\n",
       "      <td>0.441589</td>\n",
       "      <td>0.473973</td>\n",
       "      <td>0.492068</td>\n",
       "      <td>0.110830</td>\n",
       "      <td>-0.344392</td>\n",
       "      <td>0.342737</td>\n",
       "      <td>1.000000</td>\n",
       "      <td>-2.414490e-01</td>\n",
       "    </tr>\n",
       "    <tr>\n",
       "      <th>CHURN</th>\n",
       "      <td>0.014449</td>\n",
       "      <td>-0.009288</td>\n",
       "      <td>0.155240</td>\n",
       "      <td>-0.167044</td>\n",
       "      <td>-0.191641</td>\n",
       "      <td>-0.404969</td>\n",
       "      <td>8.517809e-16</td>\n",
       "      <td>0.023668</td>\n",
       "      <td>0.347713</td>\n",
       "      <td>-0.212351</td>\n",
       "      <td>...</td>\n",
       "      <td>-0.082726</td>\n",
       "      <td>-0.183967</td>\n",
       "      <td>0.071828</td>\n",
       "      <td>0.064940</td>\n",
       "      <td>-0.486502</td>\n",
       "      <td>0.216543</td>\n",
       "      <td>0.173970</td>\n",
       "      <td>0.081706</td>\n",
       "      <td>-0.241449</td>\n",
       "      <td>1.000000e+00</td>\n",
       "    </tr>\n",
       "  </tbody>\n",
       "</table>\n",
       "<p>21 rows × 21 columns</p>\n",
       "</div>"
      ],
      "text/plain": [
       "                        ID    GENDER  SENIORCITIZEN   PARTNER  DEPENDENTS  \\\n",
       "ID                1.000000 -0.027839      -0.008728 -0.024926   -0.024167   \n",
       "GENDER           -0.027839  1.000000      -0.006554  0.012409   -0.027916   \n",
       "SENIORCITIZEN    -0.008728 -0.006554       1.000000  0.018576   -0.221755   \n",
       "PARTNER          -0.024926  0.012409       0.018576  1.000000    0.459223   \n",
       "DEPENDENTS       -0.024167 -0.027916      -0.221755  0.459223    1.000000   \n",
       "TENURE           -0.028442  0.016442       0.003291  0.401478    0.189958   \n",
       "PHONESERVICE     -0.021029  0.008951       0.023292  0.009263   -0.007685   \n",
       "MULTIPLELINES    -0.013549  0.022307       0.120240  0.108980   -0.033695   \n",
       "INTERNETSERVICE  -0.025721 -0.024846       0.249270  0.009589   -0.181941   \n",
       "ONLINESECURITY   -0.055889 -0.047754      -0.048641  0.155165    0.092546   \n",
       "ONLINEBACKUP     -0.016850  0.006246       0.037655  0.142146    0.022989   \n",
       "DEVICEPROTECTION -0.021616 -0.001970       0.048233  0.174208    0.026349   \n",
       "TECHSUPPORT      -0.045518 -0.023286      -0.078865  0.134564    0.093518   \n",
       "STREAMINGTV      -0.027413 -0.039744       0.090545  0.115739   -0.033979   \n",
       "STREAMINGMOVIES  -0.027225 -0.004154       0.102497  0.133707   -0.021714   \n",
       "CONTRACT         -0.052660  0.001154      -0.144978  0.298263    0.261891   \n",
       "PAPERLESSBILLING  0.017154  0.000612       0.127988 -0.035949   -0.141197   \n",
       "PAYMENTMETHOD     0.038567  0.038762      -0.029520 -0.148825   -0.054019   \n",
       "MONTHLYCHARGES   -0.035313 -0.006528       0.146585  0.038261   -0.055625   \n",
       "TOTALCHARGES     -0.046690  0.012703       0.085955  0.361374    0.089735   \n",
       "CHURN             0.014449 -0.009288       0.155240 -0.167044   -0.191641   \n",
       "\n",
       "                    TENURE  PHONESERVICE  MULTIPLELINES  INTERNETSERVICE  \\\n",
       "ID               -0.028442 -2.102897e-02      -0.013549        -0.025721   \n",
       "GENDER            0.016442  8.950690e-03       0.022307        -0.024846   \n",
       "SENIORCITIZEN     0.003291  2.329209e-02       0.120240         0.249270   \n",
       "PARTNER           0.401478  9.262911e-03       0.108980         0.009589   \n",
       "DEPENDENTS        0.189958 -7.685359e-03      -0.033695        -0.181941   \n",
       "TENURE            1.000000  7.357727e-03       0.262242        -0.008368   \n",
       "PHONESERVICE      0.007358  1.000000e+00       0.650548         0.149756   \n",
       "MULTIPLELINES     0.262242  6.505481e-01       1.000000         0.349719   \n",
       "INTERNETSERVICE  -0.008368  1.497563e-01       0.349719         1.000000   \n",
       "ONLINESECURITY    0.340490 -6.155589e-02       0.046420         0.074585   \n",
       "ONLINEBACKUP      0.377407 -3.968379e-02       0.141787         0.235667   \n",
       "DEVICEPROTECTION  0.353784 -4.110655e-02       0.134410         0.254620   \n",
       "TECHSUPPORT       0.324567 -7.493946e-02       0.040876         0.094660   \n",
       "STREAMINGTV       0.242239 -2.086246e-02       0.181528         0.392858   \n",
       "STREAMINGMOVIES   0.271402 -2.368591e-02       0.216150         0.404770   \n",
       "CONTRACT          0.690196 -9.434400e-03       0.062262        -0.302347   \n",
       "PAPERLESSBILLING -0.026232  6.094493e-02       0.170737         0.375441   \n",
       "PAYMENTMETHOD    -0.380938  3.604349e-04      -0.128097        -0.088304   \n",
       "MONTHLYCHARGES    0.129465  1.613423e-01       0.306850         0.492172   \n",
       "TOTALCHARGES      0.861796  1.074407e-01       0.414320         0.335815   \n",
       "CHURN            -0.404969  8.517809e-16       0.023668         0.347713   \n",
       "\n",
       "                  ONLINESECURITY  ...  DEVICEPROTECTION  TECHSUPPORT  \\\n",
       "ID                     -0.055889  ...         -0.021616    -0.045518   \n",
       "GENDER                 -0.047754  ...         -0.001970    -0.023286   \n",
       "SENIORCITIZEN          -0.048641  ...          0.048233    -0.078865   \n",
       "PARTNER                 0.155165  ...          0.174208     0.134564   \n",
       "DEPENDENTS              0.092546  ...          0.026349     0.093518   \n",
       "TENURE                  0.340490  ...          0.353784     0.324567   \n",
       "PHONESERVICE           -0.061556  ...         -0.041107    -0.074939   \n",
       "MULTIPLELINES           0.046420  ...          0.134410     0.040876   \n",
       "INTERNETSERVICE         0.074585  ...          0.254620     0.094660   \n",
       "ONLINESECURITY          1.000000  ...          0.229024     0.330231   \n",
       "ONLINEBACKUP            0.241225  ...          0.294193     0.234136   \n",
       "DEVICEPROTECTION        0.229024  ...          1.000000     0.276905   \n",
       "TECHSUPPORT             0.330231  ...          0.276905     1.000000   \n",
       "STREAMINGTV             0.137993  ...          0.334815     0.202012   \n",
       "STREAMINGMOVIES         0.130362  ...          0.354711     0.220390   \n",
       "CONTRACT                0.282020  ...          0.236211     0.318780   \n",
       "PAPERLESSBILLING       -0.049617  ...          0.038106    -0.001411   \n",
       "PAYMENTMETHOD          -0.195867  ...         -0.176754    -0.187968   \n",
       "MONTHLYCHARGES          0.119248  ...          0.260342     0.154803   \n",
       "TOTALCHARGES            0.384702  ...          0.481562     0.392955   \n",
       "CHURN                  -0.212351  ...         -0.082726    -0.183967   \n",
       "\n",
       "                  STREAMINGTV  STREAMINGMOVIES  CONTRACT  PAPERLESSBILLING  \\\n",
       "ID                  -0.027413        -0.027225 -0.052660          0.017154   \n",
       "GENDER              -0.039744        -0.004154  0.001154          0.000612   \n",
       "SENIORCITIZEN        0.090545         0.102497 -0.144978          0.127988   \n",
       "PARTNER              0.115739         0.133707  0.298263         -0.035949   \n",
       "DEPENDENTS          -0.033979        -0.021714  0.261891         -0.141197   \n",
       "TENURE               0.242239         0.271402  0.690196         -0.026232   \n",
       "PHONESERVICE        -0.020862        -0.023686 -0.009434          0.060945   \n",
       "MULTIPLELINES        0.181528         0.216150  0.062262          0.170737   \n",
       "INTERNETSERVICE      0.392858         0.404770 -0.302347          0.375441   \n",
       "ONLINESECURITY       0.137993         0.130362  0.282020         -0.049617   \n",
       "ONLINEBACKUP         0.214368         0.241727  0.195039          0.078703   \n",
       "DEVICEPROTECTION     0.334815         0.354711  0.236211          0.038106   \n",
       "TECHSUPPORT          0.202012         0.220390  0.318780         -0.001411   \n",
       "STREAMINGTV          1.000000         0.518419  0.092273          0.209644   \n",
       "STREAMINGMOVIES      0.518419         1.000000  0.087635          0.193884   \n",
       "CONTRACT             0.092273         0.087635  1.000000         -0.189541   \n",
       "PAPERLESSBILLING     0.209644         0.193884 -0.189541          1.000000   \n",
       "PAYMENTMETHOD       -0.130951        -0.139787 -0.258495         -0.008632   \n",
       "MONTHLYCHARGES       0.338235         0.341843 -0.033126          0.161053   \n",
       "TOTALCHARGES         0.441589         0.473973  0.492068          0.110830   \n",
       "CHURN                0.071828         0.064940 -0.486502          0.216543   \n",
       "\n",
       "                  PAYMENTMETHOD  MONTHLYCHARGES  TOTALCHARGES         CHURN  \n",
       "ID                     0.038567       -0.035313     -0.046690  1.444865e-02  \n",
       "GENDER                 0.038762       -0.006528      0.012703 -9.287970e-03  \n",
       "SENIORCITIZEN         -0.029520        0.146585      0.085955  1.552396e-01  \n",
       "PARTNER               -0.148825        0.038261      0.361374 -1.670444e-01  \n",
       "DEPENDENTS            -0.054019       -0.055625      0.089735 -1.916412e-01  \n",
       "TENURE                -0.380938        0.129465      0.861796 -4.049691e-01  \n",
       "PHONESERVICE           0.000360        0.161342      0.107441  8.517809e-16  \n",
       "MULTIPLELINES         -0.128097        0.306850      0.414320  2.366807e-02  \n",
       "INTERNETSERVICE       -0.088304        0.492172      0.335815  3.477126e-01  \n",
       "ONLINESECURITY        -0.195867        0.119248      0.384702 -2.123505e-01  \n",
       "ONLINEBACKUP          -0.193825        0.207199      0.486865 -1.025200e-01  \n",
       "DEVICEPROTECTION      -0.176754        0.260342      0.481562 -8.272558e-02  \n",
       "TECHSUPPORT           -0.187968        0.154803      0.392955 -1.839675e-01  \n",
       "STREAMINGTV           -0.130951        0.338235      0.441589  7.182839e-02  \n",
       "STREAMINGMOVIES       -0.139787        0.341843      0.473973  6.493983e-02  \n",
       "CONTRACT              -0.258495       -0.033126      0.492068 -4.865017e-01  \n",
       "PAPERLESSBILLING      -0.008632        0.161053      0.110830  2.165426e-01  \n",
       "PAYMENTMETHOD          1.000000       -0.139872     -0.344392  1.739699e-01  \n",
       "MONTHLYCHARGES        -0.139872        1.000000      0.342737  8.170633e-02  \n",
       "TOTALCHARGES          -0.344392        0.342737      1.000000 -2.414490e-01  \n",
       "CHURN                  0.173970        0.081706     -0.241449  1.000000e+00  \n",
       "\n",
       "[21 rows x 21 columns]"
      ]
     },
     "execution_count": 184,
     "metadata": {},
     "output_type": "execute_result"
    },
    {
     "data": {
      "image/png": "[encoded data removed]",
      "text/plain": [
       "<Figure size 1440x720 with 2 Axes>"
      ]
     },
     "metadata": {
      "needs_background": "light"
     },
     "output_type": "display_data"
    }
   ],
   "source": [
    "churners_count = len(dataset[dataset['CHURN'] == 1])\n",
    "churners = (dataset[dataset['CHURN'] == 1])\n",
    "non_churners = dataset[dataset['CHURN'] == 0].sample(n=churners_count)\n",
    "df2 = churners.append(non_churners)\n",
    "\n",
    "def show_correlations(dataframe, show_chart = True):\n",
    "    fig = plt.figure(figsize = (20,10))\n",
    "    corr = dataframe.corr()\n",
    "    if show_chart == True:\n",
    "        sns.heatmap(corr, \n",
    "                    xticklabels=corr.columns.values,\n",
    "                    yticklabels=corr.columns.values,\n",
    "                    annot=True)\n",
    "    return corr\n",
    "\n",
    "show_correlations(df2,show_chart=True)"
   ]
  },
  {
   "cell_type": "code",
   "execution_count": null,
   "metadata": {},
   "outputs": [],
   "source": [
    "catvars = dataset.columns.tolist()\n",
    "catvars = [e for e in catvars if e not in ('TOTALCHARGES', 'MONTHLYCHARGES', \n",
    "                                           'TENURE', 'ID', 'CHURN')]\n",
    "\n",
    "y = 'CHURN'\n",
    "for x in catvars:\n",
    "    plot = dataset.groupby(x)[y]\\\n",
    "        .value_counts(normalize=True).mul(100)\\\n",
    "        .rename('percent').reset_index()\\\n",
    "        .pipe((sns.catplot,'data'), x=x, y='percent', hue=y, kind='bar')\n",
    "    plot.fig.suptitle(\"Churn by \" + x)\n",
    "    plot"
   ]
  },
  {
   "cell_type": "code",
   "execution_count": 168,
   "metadata": {},
   "outputs": [],
   "source": [
    "object_columns = ['ID']\n",
    "# object_columns = ['ID', 'TENURE', 'MONTHLYCHARGES', 'TOTALCHARGES']\n",
    "dataset = dataset.drop(object_columns, axis=1)"
   ]
  },
  {
   "cell_type": "markdown",
   "metadata": {},
   "source": [
    "### Feature selection"
   ]
  },
  {
   "cell_type": "code",
   "execution_count": 180,
   "metadata": {},
   "outputs": [
    {
     "name": "stdout",
     "output_type": "stream",
     "text": [
      "Chosen best features by rfe: Index(['PAYMENT_TERM_n', 'INSTALLMENT_PERCENT_n', 'LOAN_AMOUNT_n', 'SEX_M',\n",
      "       'AGE_n', 'JOB_TYPE_n', 'TELEPHONE_n', 'EMPLOYMENT_DURATION_n',\n",
      "       'CURRENT_RESIDENCE_DURATION_n', 'CHECKING_BALANCE_n2',\n",
      "       'EXISTING_SAVINGS_n', 'EXISTING_CREDITS_COUNT_n',\n",
      "       'OTHERS_ON_LOAN_n_NONE', 'PROPERTY_n_CAR_OTHER',\n",
      "       'PROPERTY_n_REAL_ESTATE', 'PROPERTY_n_SAVINGS_INSURANCE',\n",
      "       'HOUSING_n_OWN'],\n",
      "      dtype='object')\n"
     ]
    }
   ],
   "source": [
    "from sklearn.feature_selection import RFE\n",
    "# Create the RFE object and rank each pixel\n",
    "clf_rf_3 = RandomForestClassifier()      \n",
    "rfe = RFE(estimator=clf_rf_3, n_features_to_select=17, step=1)\n",
    "rfe = rfe.fit(X_train, Y_train)\n",
    "print('Chosen best features by rfe:',X_train.columns[rfe.support_])"
   ]
  },
  {
   "cell_type": "code",
   "execution_count": 181,
   "metadata": {},
   "outputs": [
    {
     "name": "stdout",
     "output_type": "stream",
     "text": [
      "Accuracy is:  0.7899659863945578\n"
     ]
    },
    {
     "data": {
      "image/png": "[encoded data removed]",
      "text/plain": [
       "<Figure size 432x288 with 2 Axes>"
      ]
     },
     "metadata": {
      "needs_background": "light"
     },
     "output_type": "display_data"
    }
   ],
   "source": [
    "xtrain_5features = X_train[X_train.columns[rfe.support_]]\n",
    "X_test_5features = X_test[X_train.columns[rfe.support_]]\n",
    "#random forest classifier with n_estimators=10 (default)\n",
    "clf_rf = RandomForestClassifier(random_state=43)      \n",
    "clr_rf = clf_rf.fit(xtrain_5features,Y_train)\n",
    "ac = accuracy_score(Y_test,clf_rf.predict(X_test_5features))\n",
    "print('Accuracy is: ',ac)\n",
    "cm = confusion_matrix(Y_test,clf_rf.predict(X_test_5features))\n",
    "sns.heatmap(cm,annot=True,fmt=\"d\")\n",
    "plt.show()"
   ]
  },
  {
   "cell_type": "code",
   "execution_count": 182,
   "metadata": {},
   "outputs": [
    {
     "name": "stderr",
     "output_type": "stream",
     "text": [
      "C:\\Users\\a362014\\AppData\\Local\\Packages\\PythonSoftwareFoundation.Python.3.9_qbz5n2kfra8p0\\LocalCache\\local-packages\\Python39\\site-packages\\sklearn\\base.py:445: UserWarning: X does not have valid feature names, but RFECV was fitted with feature names\n",
      "  warnings.warn(\n"
     ]
    },
    {
     "name": "stdout",
     "output_type": "stream",
     "text": [
      "Optimal number of features : 32\n",
      "Best features : Index(['PAYMENT_TERM_n', 'INSTALLMENT_PERCENT_n', 'LOAN_AMOUNT_n', 'SEX_F',\n",
      "       'SEX_M', 'AGE_n', 'JOB_TYPE_n', 'DEPENDENTS_n', 'TELEPHONE_n',\n",
      "       'EMPLOYMENT_DURATION_n', 'CURRENT_RESIDENCE_DURATION_n',\n",
      "       'CHECKING_BALANCE_n2', 'EXISTING_SAVINGS_n', 'EXISTING_CREDITS_COUNT_n',\n",
      "       'INSTALLMENT_PLANS_n_BANK', 'INSTALLMENT_PLANS_n_NONE',\n",
      "       'INSTALLMENT_PLANS_n_STORES', 'LOAN_PURPOSE_n_APPLIANCES',\n",
      "       'LOAN_PURPOSE_n_CAR_NEW', 'LOAN_PURPOSE_n_CAR_USED',\n",
      "       'LOAN_PURPOSE_n_FURNITURE', 'LOAN_PURPOSE_n_RADIO_TV',\n",
      "       'OTHERS_ON_LOAN_n_NONE', 'PROPERTY_n_CAR_OTHER',\n",
      "       'PROPERTY_n_REAL_ESTATE', 'PROPERTY_n_SAVINGS_INSURANCE',\n",
      "       'PROPERTY_n_UNKNOWN', 'HOUSING_n_FREE', 'HOUSING_n_OWN',\n",
      "       'HOUSING_n_RENT', 'CREDIT_HISTORY_n_CREDITS_PAID_TO_DATE',\n",
      "       'CREDIT_HISTORY_n_PRIOR_PAYMENTS_DELAYED'],\n",
      "      dtype='object')\n"
     ]
    }
   ],
   "source": [
    "from sklearn.feature_selection import RFECV\n",
    "# The \"accuracy\" scoring is proportional to the number of correct classifications\n",
    "clf_rf_4 = RandomForestClassifier() \n",
    "rfecv = RFECV(estimator=clf_rf_4, step=1, cv=5,scoring='accuracy')   #5-fold cross-validation\n",
    "rfecv = rfecv.fit(X_train, Y_train)\n",
    "print('Optimal number of features :', rfecv.n_features_)\n",
    "print('Best features :', X_train.columns[rfecv.support_])"
   ]
  },
  {
   "cell_type": "code",
   "execution_count": 183,
   "metadata": {},
   "outputs": [
    {
     "name": "stderr",
     "output_type": "stream",
     "text": [
      "C:\\Users\\a362014\\AppData\\Local\\Packages\\PythonSoftwareFoundation.Python.3.9_qbz5n2kfra8p0\\LocalCache\\local-packages\\Python39\\site-packages\\sklearn\\utils\\deprecation.py:103: FutureWarning: The `grid_scores_` attribute is deprecated in version 1.0 in favor of `cv_results_` and will be removed in version 1.2.\n",
      "  warnings.warn(msg, category=FutureWarning)\n"
     ]
    },
    {
     "data": {
      "image/png": "[encoded data removed]",
      "text/plain": [
       "<Figure size 432x288 with 1 Axes>"
      ]
     },
     "metadata": {
      "needs_background": "light"
     },
     "output_type": "display_data"
    }
   ],
   "source": [
    "plt.figure()\n",
    "plt.xlabel(\"Number of features selected\")\n",
    "plt.ylabel(\"Cross validation score of number of selected features\")\n",
    "plt.plot(range(1, len(rfecv.grid_scores_) + 1), rfecv.grid_scores_)\n",
    "plt.show()"
   ]
  },
  {
   "cell_type": "code",
   "execution_count": 184,
   "metadata": {},
   "outputs": [
    {
     "name": "stdout",
     "output_type": "stream",
     "text": [
      "Feature ranking:\n",
      "1. feature 5 (0.100215)\n",
      "2. feature 11 (0.097144)\n",
      "3. feature 0 (0.092621)\n",
      "4. feature 2 (0.089245)\n",
      "5. feature 10 (0.077441)\n",
      "6. feature 1 (0.055099)\n",
      "7. feature 33 (0.041279)\n",
      "8. feature 13 (0.038139)\n",
      "9. feature 31 (0.035715)\n",
      "10. feature 12 (0.033498)\n",
      "11. feature 34 (0.031163)\n",
      "12. feature 14 (0.025835)\n",
      "13. feature 6 (0.023270)\n",
      "14. feature 4 (0.021966)\n",
      "15. feature 37 (0.019691)\n",
      "16. feature 38 (0.016547)\n",
      "17. feature 8 (0.016525)\n",
      "18. feature 32 (0.016096)\n",
      "19. feature 3 (0.013248)\n",
      "20. feature 17 (0.011260)\n",
      "21. feature 21 (0.010876)\n",
      "22. feature 23 (0.010469)\n",
      "23. feature 25 (0.009517)\n",
      "24. feature 35 (0.009440)\n",
      "25. feature 40 (0.009392)\n",
      "26. feature 20 (0.009277)\n",
      "27. feature 43 (0.008396)\n",
      "28. feature 16 (0.008371)\n",
      "29. feature 7 (0.008188)\n",
      "30. feature 18 (0.006849)\n",
      "31. feature 36 (0.006527)\n",
      "32. feature 15 (0.006374)\n",
      "33. feature 29 (0.005661)\n",
      "34. feature 42 (0.005520)\n",
      "35. feature 19 (0.005014)\n",
      "36. feature 39 (0.004108)\n",
      "37. feature 26 (0.003971)\n",
      "38. feature 27 (0.003479)\n",
      "39. feature 22 (0.003050)\n",
      "40. feature 9 (0.002919)\n",
      "41. feature 28 (0.002751)\n",
      "42. feature 24 (0.002014)\n",
      "43. feature 30 (0.001480)\n",
      "44. feature 41 (0.000359)\n"
     ]
    }
   ],
   "source": [
    "clf_rf_5 = RandomForestClassifier()      \n",
    "clr_rf_5 = clf_rf_5.fit(X_train,Y_train)\n",
    "importances = clr_rf_5.feature_importances_\n",
    "std = np.std([tree.feature_importances_ for tree in clr_rf_5.estimators_],\n",
    "             axis=0)\n",
    "indices = np.argsort(importances)[::-1]\n",
    "# Print the feature ranking\n",
    "print(\"Feature ranking:\")\n",
    "for f in range(X_train.shape[1]):\n",
    "    print(\"%d. feature %d (%f)\" % (f + 1, indices[f], importances[indices[f]]))"
   ]
  },
  {
   "cell_type": "code",
   "execution_count": 185,
   "metadata": {},
   "outputs": [
    {
     "data": {
      "image/png": "[encoded data removed]",
      "text/plain": [
       "<Figure size 1008x936 with 1 Axes>"
      ]
     },
     "metadata": {
      "needs_background": "light"
     },
     "output_type": "display_data"
    }
   ],
   "source": [
    "# Plot the feature importances of the forest\n",
    "plt.figure(1, figsize=(14, 13))\n",
    "plt.title(\"Feature importances\")\n",
    "plt.bar(range(X_train.shape[1]), importances[indices],  color=\"g\", yerr=std[indices], align=\"center\")\n",
    "plt.xticks(range(X_train.shape[1]), X_train.columns[indices],rotation=90)\n",
    "plt.xlim([-1, X_train.shape[1]])\n",
    "plt.show()"
   ]
  },
  {
   "cell_type": "code",
   "execution_count": 87,
   "metadata": {},
   "outputs": [
    {
     "data": {
      "text/plain": [
       "Text(0, 0.5, 'Variance Ratio Explained')"
      ]
     },
     "execution_count": 87,
     "metadata": {},
     "output_type": "execute_result"
    },
    {
     "data": {
      "image/png": "[encoded data removed]",
      "text/plain": [
       "<Figure size 648x432 with 1 Axes>"
      ]
     },
     "metadata": {
      "needs_background": "light"
     },
     "output_type": "display_data"
    }
   ],
   "source": [
    "# split data train 70 % and test 30 %\n",
    "x_train, x_test, y_train, y_test = train_test_split(X, y, test_size=0.3, random_state=42)\n",
    "#normalization\n",
    "x_train_N = (x_train-x_train.mean())/(x_train.max()-x_train.min())\n",
    "x_test_N = (x_test-x_test.mean())/(x_test.max()-x_test.min())\n",
    "from sklearn.decomposition import PCA\n",
    "pca = PCA()\n",
    "pca.fit(x_train_N)\n",
    "plt.figure(1, figsize=(9, 6))\n",
    "plt.clf()\n",
    "plt.axes([.2, .2, .7, .7])\n",
    "plt.plot(pca.explained_variance_ratio_, linewidth=2)\n",
    "plt.axis('tight')\n",
    "plt.xlabel('Number of components')\n",
    "plt.ylabel('Variance Ratio Explained')"
   ]
  },
  {
   "cell_type": "markdown",
   "metadata": {},
   "source": [
    "## Criação do modelo"
   ]
  },
  {
   "cell_type": "code",
   "execution_count": 161,
   "metadata": {},
   "outputs": [],
   "source": [
    "from sklearn.tree import DecisionTreeClassifier, plot_tree\n",
    "from sklearn.model_selection import train_test_split, cross_val_score\n",
    "from sklearn.metrics import accuracy_score, confusion_matrix, plot_confusion_matrix, ConfusionMatrixDisplay, mean_squared_error, mean_absolute_error, classification_report\n",
    "from sklearn.ensemble import RandomForestClassifier, AdaBoostClassifier\n",
    "from sklearn.linear_model import LogisticRegression\n",
    "from sklearn.pipeline import Pipeline\n",
    "from sklearn.preprocessing import StandardScaler\n",
    "from sklearn.metrics import f1_score as f1\n",
    "from sklearn.svm import SVC\n",
    "from plotly.subplots import make_subplots\n",
    "import plotly.express as ex\n",
    "import plotly.graph_objs as go\n",
    "import plotly.figure_factory as ff"
   ]
  },
  {
   "cell_type": "code",
   "execution_count": 201,
   "metadata": {},
   "outputs": [],
   "source": [
    "target = ['CHURN']\n",
    "y = dataset[target]\n",
    "X = dataset.drop(target, axis=1)\n",
    "y = np.ravel(y)"
   ]
  },
  {
   "cell_type": "code",
   "execution_count": 200,
   "metadata": {},
   "outputs": [],
   "source": [
    "test_pct = 0.3 # Separaremos 30% dos dados para testes\n",
    "X_train, X_test, y_train, y_test = train_test_split(X, y, test_size=test_pct, random_state=42, stratify=y)"
   ]
  },
  {
   "cell_type": "code",
   "execution_count": 166,
   "metadata": {},
   "outputs": [
    {
     "name": "stdout",
     "output_type": "stream",
     "text": [
      "KNeighborsClassifier\n",
      "0.722 \n",
      " - - - - -  \n",
      "\n",
      "0.733 \n",
      " - - - - -  \n",
      "\n",
      "              precision    recall  f1-score   support\n",
      "\n",
      "    No Churn       0.78      0.87      0.82       909\n",
      "       Churn       0.45      0.30      0.36       323\n",
      "\n",
      "    accuracy                           0.72      1232\n",
      "   macro avg       0.62      0.59      0.59      1232\n",
      "weighted avg       0.69      0.72      0.70      1232\n",
      "\n",
      "DecisionTreeClassifier\n",
      "0.792 \n",
      " - - - - -  \n",
      "\n",
      "0.795 \n",
      " - - - - -  \n",
      "\n",
      "              precision    recall  f1-score   support\n",
      "\n",
      "    No Churn       0.83      0.90      0.86       909\n",
      "       Churn       0.63      0.50      0.56       323\n",
      "\n",
      "    accuracy                           0.79      1232\n",
      "   macro avg       0.73      0.70      0.71      1232\n",
      "weighted avg       0.78      0.79      0.78      1232\n",
      "\n"
     ]
    },
    {
     "data": {
      "text/plain": [
       "<AxesSubplot:ylabel='features'>"
      ]
     },
     "execution_count": 166,
     "metadata": {},
     "output_type": "execute_result"
    },
    {
     "data": {
      "image/png": "[encoded data removed]",
      "text/plain": [
       "<Figure size 1440x1080 with 1 Axes>"
      ]
     },
     "metadata": {
      "needs_background": "light"
     },
     "output_type": "display_data"
    }
   ],
   "source": [
    "# Classifiers\n",
    "from sklearn.neighbors import KNeighborsClassifier\n",
    "from sklearn.tree import DecisionTreeClassifier\n",
    "from sklearn.model_selection import cross_val_score\n",
    "\n",
    "classifiers = [\n",
    "    KNeighborsClassifier(5),    \n",
    "    DecisionTreeClassifier(max_depth=5)]\n",
    "    \n",
    "\n",
    "# iterate over classifiers\n",
    "for item in classifiers:\n",
    "    classifier_name = ((str(item)[:(str(item).find(\"(\"))]))\n",
    "    print (classifier_name)\n",
    "    \n",
    "    # Create classifier, train it and test it.\n",
    "    clf = item\n",
    "    clf.fit(X_train, y_train)\n",
    "    pred = clf.predict(X_test)\n",
    "    score = clf.score(X_test, y_test)\n",
    "    print (round(score,3),\"\\n\", \"- - - - - \", \"\\n\")\n",
    "    \n",
    "    # Cross Validation\n",
    "    cv_results = cross_val_score(clf, X, y, cv=10)\n",
    "    print (round(np.mean(cv_results),3),\"\\n\", \"- - - - - \", \"\\n\")\n",
    "    \n",
    "    labels = ['No Churn', 'Churn']\n",
    "    print(classification_report(y_test, pred, target_names=labels))\n",
    "    \n",
    "feature_df = pd.DataFrame()\n",
    "feature_df['features'] = X.columns\n",
    "feature_df['importance'] = clf.feature_importances_\n",
    "feature_df.set_index('features').sort_values(by='importance', ascending=True).plot(kind='barh', figsize=(20, 15))\n",
    "print(feature_df.sort_values(by='importance', ascending=True))"
   ]
  },
  {
   "cell_type": "code",
   "execution_count": 171,
   "metadata": {},
   "outputs": [],
   "source": [
    "from imblearn.over_sampling import SMOTE as Smote\n",
    "smt = Smote(random_state=42)\n",
    "X_train, y_train = smt.fit_resample(X_train, y_train)"
   ]
  },
  {
   "cell_type": "code",
   "execution_count": 172,
   "metadata": {},
   "outputs": [
    {
     "name": "stdout",
     "output_type": "stream",
     "text": [
      "Acurácia do modelo (número de predições assertivas sobre número total de testes): 0.7694805194805194\n"
     ]
    }
   ],
   "source": [
    "# model = RandomForestClassifier(n_estimators=1000, min_samples_leaf=1, max_features='auto',\n",
    "#                             random_state=42, n_jobs=11, criterion='entropy', max_depth=22)\n",
    "\n",
    "model = RandomForestClassifier(n_estimators=1000, min_samples_leaf=2, max_features=\"log2\",\n",
    "                            random_state=42, n_jobs=11, criterion='entropy')\n",
    "\n",
    "# model = LogisticRegression(solver='lbfgs', max_iter=4000)\n",
    "\n",
    "# model = DecisionTreeClassifier(random_state=42)\n",
    "\n",
    "model.fit(X_train, y_train)"
   ]
  },
  {
   "cell_type": "code",
   "execution_count": 173,
   "metadata": {},
   "outputs": [
    {
     "name": "stdout",
     "output_type": "stream",
     "text": [
      "Acurácia do modelo (com cross validate): 0.834433962264151\n"
     ]
    }
   ],
   "source": [
    "from sklearn.model_selection import cross_val_score\n",
    "acc_cv = cross_val_score(model,X_train, y_train,cv=10)\n",
    "print(f\"Acurácia do modelo (com cross validate): {acc_cv.mean()}\")"
   ]
  },
  {
   "cell_type": "code",
   "execution_count": 175,
   "metadata": {},
   "outputs": [
    {
     "name": "stdout",
     "output_type": "stream",
     "text": [
      "Accuracy score = 0.7694805194805194\n",
      "Mean absolute error = 0.2305194805194805\n"
     ]
    },
    {
     "data": {
      "image/png": "[encoded data removed]",
      "text/plain": [
       "<Figure size 432x288 with 2 Axes>"
      ]
     },
     "metadata": {
      "needs_background": "light"
     },
     "output_type": "display_data"
    },
    {
     "name": "stdout",
     "output_type": "stream",
     "text": [
      "              precision    recall  f1-score   support\n",
      "\n",
      "    No Churn       0.87      0.81      0.84       909\n",
      "       Churn       0.55      0.66      0.60       323\n",
      "\n",
      "    accuracy                           0.77      1232\n",
      "   macro avg       0.71      0.73      0.72      1232\n",
      "weighted avg       0.79      0.77      0.78      1232\n",
      "\n"
     ]
    }
   ],
   "source": [
    "# Estimativa da acurácia no conjunto de teste\n",
    "predictions = model.predict(X_test)\n",
    "print(f'Accuracy score = {accuracy_score(y_test, predictions)}')\n",
    "print(f'Mean absolute error = {mean_absolute_error(y_test, predictions)}')\n",
    "\n",
    "# Matriz de confusão\n",
    "cm = confusion_matrix(y_test, predictions)\n",
    "labels = ['No Churn', 'Churn']\n",
    "cmd = ConfusionMatrixDisplay(cm, display_labels=labels)\n",
    "cmd.plot(values_format='d')\n",
    "plt.show()\n",
    "print(classification_report(y_test, predictions, target_names=labels))"
   ]
  },
  {
   "cell_type": "code",
   "execution_count": 191,
   "metadata": {},
   "outputs": [],
   "source": [
    "rf_pipe = Pipeline(steps =[ ('scale',StandardScaler()), (\"RF\",RandomForestClassifier(random_state=42)) ])\n",
    "ada_pipe = Pipeline(steps =[ ('scale',StandardScaler()), (\"RF\",AdaBoostClassifier(random_state=42,learning_rate=0.7)) ])\n",
    "svm_pipe = Pipeline(steps =[ ('scale',StandardScaler()), (\"RF\",SVC(random_state=42,kernel='rbf')) ])\n",
    "\n",
    "\n",
    "f1_cross_val_scores = cross_val_score(rf_pipe,X_train,y_train,cv=5,scoring='f1')\n",
    "ada_f1_cross_val_scores=cross_val_score(ada_pipe,X_train,y_train,cv=5,scoring='f1')\n",
    "svm_f1_cross_val_scores=cross_val_score(svm_pipe,X_train,y_train,cv=5,scoring='f1')"
   ]
  },
  {
   "cell_type": "code",
   "execution_count": 192,
   "metadata": {},
   "outputs": [
    {
     "data": {
      "application/vnd.plotly.v1+json": {
       "config": {
        "plotlyServerURL": "https://plot.ly"
       },
       "data": [
        {
         "name": "Random Forest",
         "type": "scatter",
         "x": [
          0,
          1,
          2,
          3,
          4
         ],
         "xaxis": "x",
         "y": [
          0.6693440428380188,
          0.7528809218950063,
          0.8874316939890711,
          0.8930540242557884,
          0.8937093275488069
         ],
         "yaxis": "y"
        },
        {
         "name": "Adaboost",
         "type": "scatter",
         "x": [
          0,
          1,
          2,
          3,
          4
         ],
         "xaxis": "x2",
         "y": [
          0.6751918158567775,
          0.7595238095238095,
          0.8617363344051447,
          0.8614393125671322,
          0.8643006263048018
         ],
         "yaxis": "y2"
        },
        {
         "name": "SVM",
         "type": "scatter",
         "x": [
          0,
          1,
          2,
          3,
          4
         ],
         "xaxis": "x3",
         "y": [
          0.6746347941567066,
          0.7222222222222222,
          0.8703108252947481,
          0.8739130434782608,
          0.8595744680851064
         ],
         "yaxis": "y3"
        }
       ],
       "layout": {
        "annotations": [
         {
          "font": {
           "size": 16
          },
          "showarrow": false,
          "text": "Random Forest Cross Val Scores",
          "x": 0.5,
          "xanchor": "center",
          "xref": "paper",
          "y": 1,
          "yanchor": "bottom",
          "yref": "paper"
         },
         {
          "font": {
           "size": 16
          },
          "showarrow": false,
          "text": "Adaboost Cross Val Scores",
          "x": 0.5,
          "xanchor": "center",
          "xref": "paper",
          "y": 0.6111111111111112,
          "yanchor": "bottom",
          "yref": "paper"
         },
         {
          "font": {
           "size": 16
          },
          "showarrow": false,
          "text": "SVM Cross Val Scores",
          "x": 0.5,
          "xanchor": "center",
          "xref": "paper",
          "y": 0.22222222222222224,
          "yanchor": "bottom",
          "yref": "paper"
         }
        ],
        "height": 700,
        "template": {
         "data": {
          "bar": [
           {
            "error_x": {
             "color": "#2a3f5f"
            },
            "error_y": {
             "color": "#2a3f5f"
            },
            "marker": {
             "line": {
              "color": "#E5ECF6",
              "width": 0.5
             },
             "pattern": {
              "fillmode": "overlay",
              "size": 10,
              "solidity": 0.2
             }
            },
            "type": "bar"
           }
          ],
          "barpolar": [
           {
            "marker": {
             "line": {
              "color": "#E5ECF6",
              "width": 0.5
             },
             "pattern": {
              "fillmode": "overlay",
              "size": 10,
              "solidity": 0.2
             }
            },
            "type": "barpolar"
           }
          ],
          "carpet": [
           {
            "aaxis": {
             "endlinecolor": "#2a3f5f",
             "gridcolor": "white",
             "linecolor": "white",
             "minorgridcolor": "white",
             "startlinecolor": "#2a3f5f"
            },
            "baxis": {
             "endlinecolor": "#2a3f5f",
             "gridcolor": "white",
             "linecolor": "white",
             "minorgridcolor": "white",
             "startlinecolor": "#2a3f5f"
            },
            "type": "carpet"
           }
          ],
          "choropleth": [
           {
            "colorbar": {
             "outlinewidth": 0,
             "ticks": ""
            },
            "type": "choropleth"
           }
          ],
          "contour": [
           {
            "colorbar": {
             "outlinewidth": 0,
             "ticks": ""
            },
            "colorscale": [
             [
              0,
              "#0d0887"
             ],
             [
              0.1111111111111111,
              "#46039f"
             ],
             [
              0.2222222222222222,
              "#7201a8"
             ],
             [
              0.3333333333333333,
              "#9c179e"
             ],
             [
              0.4444444444444444,
              "#bd3786"
             ],
             [
              0.5555555555555556,
              "#d8576b"
             ],
             [
              0.6666666666666666,
              "#ed7953"
             ],
             [
              0.7777777777777778,
              "#fb9f3a"
             ],
             [
              0.8888888888888888,
              "#fdca26"
             ],
             [
              1,
              "#f0f921"
             ]
            ],
            "type": "contour"
           }
          ],
          "contourcarpet": [
           {
            "colorbar": {
             "outlinewidth": 0,
             "ticks": ""
            },
            "type": "contourcarpet"
           }
          ],
          "heatmap": [
           {
            "colorbar": {
             "outlinewidth": 0,
             "ticks": ""
            },
            "colorscale": [
             [
              0,
              "#0d0887"
             ],
             [
              0.1111111111111111,
              "#46039f"
             ],
             [
              0.2222222222222222,
              "#7201a8"
             ],
             [
              0.3333333333333333,
              "#9c179e"
             ],
             [
              0.4444444444444444,
              "#bd3786"
             ],
             [
              0.5555555555555556,
              "#d8576b"
             ],
             [
              0.6666666666666666,
              "#ed7953"
             ],
             [
              0.7777777777777778,
              "#fb9f3a"
             ],
             [
              0.8888888888888888,
              "#fdca26"
             ],
             [
              1,
              "#f0f921"
             ]
            ],
            "type": "heatmap"
           }
          ],
          "heatmapgl": [
           {
            "colorbar": {
             "outlinewidth": 0,
             "ticks": ""
            },
            "colorscale": [
             [
              0,
              "#0d0887"
             ],
             [
              0.1111111111111111,
              "#46039f"
             ],
             [
              0.2222222222222222,
              "#7201a8"
             ],
             [
              0.3333333333333333,
              "#9c179e"
             ],
             [
              0.4444444444444444,
              "#bd3786"
             ],
             [
              0.5555555555555556,
              "#d8576b"
             ],
             [
              0.6666666666666666,
              "#ed7953"
             ],
             [
              0.7777777777777778,
              "#fb9f3a"
             ],
             [
              0.8888888888888888,
              "#fdca26"
             ],
             [
              1,
              "#f0f921"
             ]
            ],
            "type": "heatmapgl"
           }
          ],
          "histogram": [
           {
            "marker": {
             "pattern": {
              "fillmode": "overlay",
              "size": 10,
              "solidity": 0.2
             }
            },
            "type": "histogram"
           }
          ],
          "histogram2d": [
           {
            "colorbar": {
             "outlinewidth": 0,
             "ticks": ""
            },
            "colorscale": [
             [
              0,
              "#0d0887"
             ],
             [
              0.1111111111111111,
              "#46039f"
             ],
             [
              0.2222222222222222,
              "#7201a8"
             ],
             [
              0.3333333333333333,
              "#9c179e"
             ],
             [
              0.4444444444444444,
              "#bd3786"
             ],
             [
              0.5555555555555556,
              "#d8576b"
             ],
             [
              0.6666666666666666,
              "#ed7953"
             ],
             [
              0.7777777777777778,
              "#fb9f3a"
             ],
             [
              0.8888888888888888,
              "#fdca26"
             ],
             [
              1,
              "#f0f921"
             ]
            ],
            "type": "histogram2d"
           }
          ],
          "histogram2dcontour": [
           {
            "colorbar": {
             "outlinewidth": 0,
             "ticks": ""
            },
            "colorscale": [
             [
              0,
              "#0d0887"
             ],
             [
              0.1111111111111111,
              "#46039f"
             ],
             [
              0.2222222222222222,
              "#7201a8"
             ],
             [
              0.3333333333333333,
              "#9c179e"
             ],
             [
              0.4444444444444444,
              "#bd3786"
             ],
             [
              0.5555555555555556,
              "#d8576b"
             ],
             [
              0.6666666666666666,
              "#ed7953"
             ],
             [
              0.7777777777777778,
              "#fb9f3a"
             ],
             [
              0.8888888888888888,
              "#fdca26"
             ],
             [
              1,
              "#f0f921"
             ]
            ],
            "type": "histogram2dcontour"
           }
          ],
          "mesh3d": [
           {
            "colorbar": {
             "outlinewidth": 0,
             "ticks": ""
            },
            "type": "mesh3d"
           }
          ],
          "parcoords": [
           {
            "line": {
             "colorbar": {
              "outlinewidth": 0,
              "ticks": ""
             }
            },
            "type": "parcoords"
           }
          ],
          "pie": [
           {
            "automargin": true,
            "type": "pie"
           }
          ],
          "scatter": [
           {
            "marker": {
             "colorbar": {
              "outlinewidth": 0,
              "ticks": ""
             }
            },
            "type": "scatter"
           }
          ],
          "scatter3d": [
           {
            "line": {
             "colorbar": {
              "outlinewidth": 0,
              "ticks": ""
             }
            },
            "marker": {
             "colorbar": {
              "outlinewidth": 0,
              "ticks": ""
             }
            },
            "type": "scatter3d"
           }
          ],
          "scattercarpet": [
           {
            "marker": {
             "colorbar": {
              "outlinewidth": 0,
              "ticks": ""
             }
            },
            "type": "scattercarpet"
           }
          ],
          "scattergeo": [
           {
            "marker": {
             "colorbar": {
              "outlinewidth": 0,
              "ticks": ""
             }
            },
            "type": "scattergeo"
           }
          ],
          "scattergl": [
           {
            "marker": {
             "colorbar": {
              "outlinewidth": 0,
              "ticks": ""
             }
            },
            "type": "scattergl"
           }
          ],
          "scattermapbox": [
           {
            "marker": {
             "colorbar": {
              "outlinewidth": 0,
              "ticks": ""
             }
            },
            "type": "scattermapbox"
           }
          ],
          "scatterpolar": [
           {
            "marker": {
             "colorbar": {
              "outlinewidth": 0,
              "ticks": ""
             }
            },
            "type": "scatterpolar"
           }
          ],
          "scatterpolargl": [
           {
            "marker": {
             "colorbar": {
              "outlinewidth": 0,
              "ticks": ""
             }
            },
            "type": "scatterpolargl"
           }
          ],
          "scatterternary": [
           {
            "marker": {
             "colorbar": {
              "outlinewidth": 0,
              "ticks": ""
             }
            },
            "type": "scatterternary"
           }
          ],
          "surface": [
           {
            "colorbar": {
             "outlinewidth": 0,
             "ticks": ""
            },
            "colorscale": [
             [
              0,
              "#0d0887"
             ],
             [
              0.1111111111111111,
              "#46039f"
             ],
             [
              0.2222222222222222,
              "#7201a8"
             ],
             [
              0.3333333333333333,
              "#9c179e"
             ],
             [
              0.4444444444444444,
              "#bd3786"
             ],
             [
              0.5555555555555556,
              "#d8576b"
             ],
             [
              0.6666666666666666,
              "#ed7953"
             ],
             [
              0.7777777777777778,
              "#fb9f3a"
             ],
             [
              0.8888888888888888,
              "#fdca26"
             ],
             [
              1,
              "#f0f921"
             ]
            ],
            "type": "surface"
           }
          ],
          "table": [
           {
            "cells": {
             "fill": {
              "color": "#EBF0F8"
             },
             "line": {
              "color": "white"
             }
            },
            "header": {
             "fill": {
              "color": "#C8D4E3"
             },
             "line": {
              "color": "white"
             }
            },
            "type": "table"
           }
          ]
         },
         "layout": {
          "annotationdefaults": {
           "arrowcolor": "#2a3f5f",
           "arrowhead": 0,
           "arrowwidth": 1
          },
          "autotypenumbers": "strict",
          "coloraxis": {
           "colorbar": {
            "outlinewidth": 0,
            "ticks": ""
           }
          },
          "colorscale": {
           "diverging": [
            [
             0,
             "#8e0152"
            ],
            [
             0.1,
             "#c51b7d"
            ],
            [
             0.2,
             "#de77ae"
            ],
            [
             0.3,
             "#f1b6da"
            ],
            [
             0.4,
             "#fde0ef"
            ],
            [
             0.5,
             "#f7f7f7"
            ],
            [
             0.6,
             "#e6f5d0"
            ],
            [
             0.7,
             "#b8e186"
            ],
            [
             0.8,
             "#7fbc41"
            ],
            [
             0.9,
             "#4d9221"
            ],
            [
             1,
             "#276419"
            ]
           ],
           "sequential": [
            [
             0,
             "#0d0887"
            ],
            [
             0.1111111111111111,
             "#46039f"
            ],
            [
             0.2222222222222222,
             "#7201a8"
            ],
            [
             0.3333333333333333,
             "#9c179e"
            ],
            [
             0.4444444444444444,
             "#bd3786"
            ],
            [
             0.5555555555555556,
             "#d8576b"
            ],
            [
             0.6666666666666666,
             "#ed7953"
            ],
            [
             0.7777777777777778,
             "#fb9f3a"
            ],
            [
             0.8888888888888888,
             "#fdca26"
            ],
            [
             1,
             "#f0f921"
            ]
           ],
           "sequentialminus": [
            [
             0,
             "#0d0887"
            ],
            [
             0.1111111111111111,
             "#46039f"
            ],
            [
             0.2222222222222222,
             "#7201a8"
            ],
            [
             0.3333333333333333,
             "#9c179e"
            ],
            [
             0.4444444444444444,
             "#bd3786"
            ],
            [
             0.5555555555555556,
             "#d8576b"
            ],
            [
             0.6666666666666666,
             "#ed7953"
            ],
            [
             0.7777777777777778,
             "#fb9f3a"
            ],
            [
             0.8888888888888888,
             "#fdca26"
            ],
            [
             1,
             "#f0f921"
            ]
           ]
          },
          "colorway": [
           "#636efa",
           "#EF553B",
           "#00cc96",
           "#ab63fa",
           "#FFA15A",
           "#19d3f3",
           "#FF6692",
           "#B6E880",
           "#FF97FF",
           "#FECB52"
          ],
          "font": {
           "color": "#2a3f5f"
          },
          "geo": {
           "bgcolor": "white",
           "lakecolor": "white",
           "landcolor": "#E5ECF6",
           "showlakes": true,
           "showland": true,
           "subunitcolor": "white"
          },
          "hoverlabel": {
           "align": "left"
          },
          "hovermode": "closest",
          "mapbox": {
           "style": "light"
          },
          "paper_bgcolor": "white",
          "plot_bgcolor": "#E5ECF6",
          "polar": {
           "angularaxis": {
            "gridcolor": "white",
            "linecolor": "white",
            "ticks": ""
           },
           "bgcolor": "#E5ECF6",
           "radialaxis": {
            "gridcolor": "white",
            "linecolor": "white",
            "ticks": ""
           }
          },
          "scene": {
           "xaxis": {
            "backgroundcolor": "#E5ECF6",
            "gridcolor": "white",
            "gridwidth": 2,
            "linecolor": "white",
            "showbackground": true,
            "ticks": "",
            "zerolinecolor": "white"
           },
           "yaxis": {
            "backgroundcolor": "#E5ECF6",
            "gridcolor": "white",
            "gridwidth": 2,
            "linecolor": "white",
            "showbackground": true,
            "ticks": "",
            "zerolinecolor": "white"
           },
           "zaxis": {
            "backgroundcolor": "#E5ECF6",
            "gridcolor": "white",
            "gridwidth": 2,
            "linecolor": "white",
            "showbackground": true,
            "ticks": "",
            "zerolinecolor": "white"
           }
          },
          "shapedefaults": {
           "line": {
            "color": "#2a3f5f"
           }
          },
          "ternary": {
           "aaxis": {
            "gridcolor": "white",
            "linecolor": "white",
            "ticks": ""
           },
           "baxis": {
            "gridcolor": "white",
            "linecolor": "white",
            "ticks": ""
           },
           "bgcolor": "#E5ECF6",
           "caxis": {
            "gridcolor": "white",
            "linecolor": "white",
            "ticks": ""
           }
          },
          "title": {
           "x": 0.05
          },
          "xaxis": {
           "automargin": true,
           "gridcolor": "white",
           "linecolor": "white",
           "ticks": "",
           "title": {
            "standoff": 15
           },
           "zerolinecolor": "white",
           "zerolinewidth": 2
          },
          "yaxis": {
           "automargin": true,
           "gridcolor": "white",
           "linecolor": "white",
           "ticks": "",
           "title": {
            "standoff": 15
           },
           "zerolinecolor": "white",
           "zerolinewidth": 2
          }
         }
        },
        "title": {
         "text": "Different Model 5 Fold Cross Validation"
        },
        "width": 900,
        "xaxis": {
         "anchor": "y",
         "domain": [
          0,
          1
         ],
         "matches": "x3",
         "showticklabels": false,
         "title": {
          "text": "Fold #"
         }
        },
        "xaxis2": {
         "anchor": "y2",
         "domain": [
          0,
          1
         ],
         "matches": "x3",
         "showticklabels": false,
         "title": {
          "text": "Fold #"
         }
        },
        "xaxis3": {
         "anchor": "y3",
         "domain": [
          0,
          1
         ],
         "title": {
          "text": "Fold #"
         }
        },
        "yaxis": {
         "anchor": "x",
         "domain": [
          0.7777777777777778,
          1
         ],
         "title": {
          "text": "F1 Score"
         }
        },
        "yaxis2": {
         "anchor": "x2",
         "domain": [
          0.3888888888888889,
          0.6111111111111112
         ],
         "title": {
          "text": "F1 Score"
         }
        },
        "yaxis3": {
         "anchor": "x3",
         "domain": [
          0,
          0.22222222222222224
         ],
         "title": {
          "text": "F1 Score"
         }
        }
       }
      }
     },
     "metadata": {},
     "output_type": "display_data"
    }
   ],
   "source": [
    "fig = make_subplots(rows=3, cols=1,shared_xaxes=True,subplot_titles=('Random Forest Cross Val Scores',\n",
    "                                                                     'Adaboost Cross Val Scores',\n",
    "                                                                    'SVM Cross Val Scores'))\n",
    "\n",
    "fig.add_trace(\n",
    "    go.Scatter(x=list(range(0,len(f1_cross_val_scores))),y=f1_cross_val_scores,name='Random Forest'),\n",
    "    row=1, col=1)\n",
    "\n",
    "fig.add_trace(\n",
    "    go.Scatter(x=list(range(0,len(ada_f1_cross_val_scores))),y=ada_f1_cross_val_scores,name='Adaboost'),\n",
    "    row=2, col=1)\n",
    "\n",
    "fig.add_trace(\n",
    "    go.Scatter(x=list(range(0,len(svm_f1_cross_val_scores))),y=svm_f1_cross_val_scores,name='SVM'),\n",
    "    row=3, col=1)\n",
    "    \n",
    "\n",
    "fig.update_layout(height=700, width=900, title_text=\"Different Model 5 Fold Cross Validation\")\n",
    "fig.update_yaxes(title_text=\"F1 Score\")\n",
    "fig.update_xaxes(title_text=\"Fold #\")\n",
    "\n",
    "fig.show()"
   ]
  },
  {
   "cell_type": "code",
   "execution_count": 193,
   "metadata": {},
   "outputs": [],
   "source": [
    "rf_pipe.fit(X_train,y_train)\n",
    "rf_prediction = rf_pipe.predict(X_test)\n",
    "\n",
    "ada_pipe.fit(X_train,y_train)\n",
    "ada_prediction = ada_pipe.predict(X_test)\n",
    "\n",
    "svm_pipe.fit(X_train,y_train)\n",
    "svm_prediction = svm_pipe.predict(X_test)"
   ]
  },
  {
   "cell_type": "code",
   "execution_count": 194,
   "metadata": {},
   "outputs": [
    {
     "data": {
      "application/vnd.plotly.v1+json": {
       "config": {
        "plotlyServerURL": "https://plot.ly"
       },
       "data": [
        {
         "cells": {
          "values": [
           [
            "<b>Random Forest<b>",
            "<b>AdaBoost<b>",
            "<b>SVM<b>"
           ],
           [
            0.57,
            0.6,
            0.61
           ]
          ]
         },
         "header": {
          "align": [
           "center",
           "center"
          ],
          "fill": {
           "color": "whitesmoke"
          },
          "font": {
           "color": "black",
           "size": 18
          },
          "height": 40,
          "line": {
           "color": "darkslategray"
          },
          "values": [
           "<b>Model<b>",
           "<b>F1 Score On Test Data<b>"
          ]
         },
         "type": "table"
        }
       ],
       "layout": {
        "template": {
         "data": {
          "bar": [
           {
            "error_x": {
             "color": "#2a3f5f"
            },
            "error_y": {
             "color": "#2a3f5f"
            },
            "marker": {
             "line": {
              "color": "#E5ECF6",
              "width": 0.5
             },
             "pattern": {
              "fillmode": "overlay",
              "size": 10,
              "solidity": 0.2
             }
            },
            "type": "bar"
           }
          ],
          "barpolar": [
           {
            "marker": {
             "line": {
              "color": "#E5ECF6",
              "width": 0.5
             },
             "pattern": {
              "fillmode": "overlay",
              "size": 10,
              "solidity": 0.2
             }
            },
            "type": "barpolar"
           }
          ],
          "carpet": [
           {
            "aaxis": {
             "endlinecolor": "#2a3f5f",
             "gridcolor": "white",
             "linecolor": "white",
             "minorgridcolor": "white",
             "startlinecolor": "#2a3f5f"
            },
            "baxis": {
             "endlinecolor": "#2a3f5f",
             "gridcolor": "white",
             "linecolor": "white",
             "minorgridcolor": "white",
             "startlinecolor": "#2a3f5f"
            },
            "type": "carpet"
           }
          ],
          "choropleth": [
           {
            "colorbar": {
             "outlinewidth": 0,
             "ticks": ""
            },
            "type": "choropleth"
           }
          ],
          "contour": [
           {
            "colorbar": {
             "outlinewidth": 0,
             "ticks": ""
            },
            "colorscale": [
             [
              0,
              "#0d0887"
             ],
             [
              0.1111111111111111,
              "#46039f"
             ],
             [
              0.2222222222222222,
              "#7201a8"
             ],
             [
              0.3333333333333333,
              "#9c179e"
             ],
             [
              0.4444444444444444,
              "#bd3786"
             ],
             [
              0.5555555555555556,
              "#d8576b"
             ],
             [
              0.6666666666666666,
              "#ed7953"
             ],
             [
              0.7777777777777778,
              "#fb9f3a"
             ],
             [
              0.8888888888888888,
              "#fdca26"
             ],
             [
              1,
              "#f0f921"
             ]
            ],
            "type": "contour"
           }
          ],
          "contourcarpet": [
           {
            "colorbar": {
             "outlinewidth": 0,
             "ticks": ""
            },
            "type": "contourcarpet"
           }
          ],
          "heatmap": [
           {
            "colorbar": {
             "outlinewidth": 0,
             "ticks": ""
            },
            "colorscale": [
             [
              0,
              "#0d0887"
             ],
             [
              0.1111111111111111,
              "#46039f"
             ],
             [
              0.2222222222222222,
              "#7201a8"
             ],
             [
              0.3333333333333333,
              "#9c179e"
             ],
             [
              0.4444444444444444,
              "#bd3786"
             ],
             [
              0.5555555555555556,
              "#d8576b"
             ],
             [
              0.6666666666666666,
              "#ed7953"
             ],
             [
              0.7777777777777778,
              "#fb9f3a"
             ],
             [
              0.8888888888888888,
              "#fdca26"
             ],
             [
              1,
              "#f0f921"
             ]
            ],
            "type": "heatmap"
           }
          ],
          "heatmapgl": [
           {
            "colorbar": {
             "outlinewidth": 0,
             "ticks": ""
            },
            "colorscale": [
             [
              0,
              "#0d0887"
             ],
             [
              0.1111111111111111,
              "#46039f"
             ],
             [
              0.2222222222222222,
              "#7201a8"
             ],
             [
              0.3333333333333333,
              "#9c179e"
             ],
             [
              0.4444444444444444,
              "#bd3786"
             ],
             [
              0.5555555555555556,
              "#d8576b"
             ],
             [
              0.6666666666666666,
              "#ed7953"
             ],
             [
              0.7777777777777778,
              "#fb9f3a"
             ],
             [
              0.8888888888888888,
              "#fdca26"
             ],
             [
              1,
              "#f0f921"
             ]
            ],
            "type": "heatmapgl"
           }
          ],
          "histogram": [
           {
            "marker": {
             "pattern": {
              "fillmode": "overlay",
              "size": 10,
              "solidity": 0.2
             }
            },
            "type": "histogram"
           }
          ],
          "histogram2d": [
           {
            "colorbar": {
             "outlinewidth": 0,
             "ticks": ""
            },
            "colorscale": [
             [
              0,
              "#0d0887"
             ],
             [
              0.1111111111111111,
              "#46039f"
             ],
             [
              0.2222222222222222,
              "#7201a8"
             ],
             [
              0.3333333333333333,
              "#9c179e"
             ],
             [
              0.4444444444444444,
              "#bd3786"
             ],
             [
              0.5555555555555556,
              "#d8576b"
             ],
             [
              0.6666666666666666,
              "#ed7953"
             ],
             [
              0.7777777777777778,
              "#fb9f3a"
             ],
             [
              0.8888888888888888,
              "#fdca26"
             ],
             [
              1,
              "#f0f921"
             ]
            ],
            "type": "histogram2d"
           }
          ],
          "histogram2dcontour": [
           {
            "colorbar": {
             "outlinewidth": 0,
             "ticks": ""
            },
            "colorscale": [
             [
              0,
              "#0d0887"
             ],
             [
              0.1111111111111111,
              "#46039f"
             ],
             [
              0.2222222222222222,
              "#7201a8"
             ],
             [
              0.3333333333333333,
              "#9c179e"
             ],
             [
              0.4444444444444444,
              "#bd3786"
             ],
             [
              0.5555555555555556,
              "#d8576b"
             ],
             [
              0.6666666666666666,
              "#ed7953"
             ],
             [
              0.7777777777777778,
              "#fb9f3a"
             ],
             [
              0.8888888888888888,
              "#fdca26"
             ],
             [
              1,
              "#f0f921"
             ]
            ],
            "type": "histogram2dcontour"
           }
          ],
          "mesh3d": [
           {
            "colorbar": {
             "outlinewidth": 0,
             "ticks": ""
            },
            "type": "mesh3d"
           }
          ],
          "parcoords": [
           {
            "line": {
             "colorbar": {
              "outlinewidth": 0,
              "ticks": ""
             }
            },
            "type": "parcoords"
           }
          ],
          "pie": [
           {
            "automargin": true,
            "type": "pie"
           }
          ],
          "scatter": [
           {
            "marker": {
             "colorbar": {
              "outlinewidth": 0,
              "ticks": ""
             }
            },
            "type": "scatter"
           }
          ],
          "scatter3d": [
           {
            "line": {
             "colorbar": {
              "outlinewidth": 0,
              "ticks": ""
             }
            },
            "marker": {
             "colorbar": {
              "outlinewidth": 0,
              "ticks": ""
             }
            },
            "type": "scatter3d"
           }
          ],
          "scattercarpet": [
           {
            "marker": {
             "colorbar": {
              "outlinewidth": 0,
              "ticks": ""
             }
            },
            "type": "scattercarpet"
           }
          ],
          "scattergeo": [
           {
            "marker": {
             "colorbar": {
              "outlinewidth": 0,
              "ticks": ""
             }
            },
            "type": "scattergeo"
           }
          ],
          "scattergl": [
           {
            "marker": {
             "colorbar": {
              "outlinewidth": 0,
              "ticks": ""
             }
            },
            "type": "scattergl"
           }
          ],
          "scattermapbox": [
           {
            "marker": {
             "colorbar": {
              "outlinewidth": 0,
              "ticks": ""
             }
            },
            "type": "scattermapbox"
           }
          ],
          "scatterpolar": [
           {
            "marker": {
             "colorbar": {
              "outlinewidth": 0,
              "ticks": ""
             }
            },
            "type": "scatterpolar"
           }
          ],
          "scatterpolargl": [
           {
            "marker": {
             "colorbar": {
              "outlinewidth": 0,
              "ticks": ""
             }
            },
            "type": "scatterpolargl"
           }
          ],
          "scatterternary": [
           {
            "marker": {
             "colorbar": {
              "outlinewidth": 0,
              "ticks": ""
             }
            },
            "type": "scatterternary"
           }
          ],
          "surface": [
           {
            "colorbar": {
             "outlinewidth": 0,
             "ticks": ""
            },
            "colorscale": [
             [
              0,
              "#0d0887"
             ],
             [
              0.1111111111111111,
              "#46039f"
             ],
             [
              0.2222222222222222,
              "#7201a8"
             ],
             [
              0.3333333333333333,
              "#9c179e"
             ],
             [
              0.4444444444444444,
              "#bd3786"
             ],
             [
              0.5555555555555556,
              "#d8576b"
             ],
             [
              0.6666666666666666,
              "#ed7953"
             ],
             [
              0.7777777777777778,
              "#fb9f3a"
             ],
             [
              0.8888888888888888,
              "#fdca26"
             ],
             [
              1,
              "#f0f921"
             ]
            ],
            "type": "surface"
           }
          ],
          "table": [
           {
            "cells": {
             "fill": {
              "color": "#EBF0F8"
             },
             "line": {
              "color": "white"
             }
            },
            "header": {
             "fill": {
              "color": "#C8D4E3"
             },
             "line": {
              "color": "white"
             }
            },
            "type": "table"
           }
          ]
         },
         "layout": {
          "annotationdefaults": {
           "arrowcolor": "#2a3f5f",
           "arrowhead": 0,
           "arrowwidth": 1
          },
          "autotypenumbers": "strict",
          "coloraxis": {
           "colorbar": {
            "outlinewidth": 0,
            "ticks": ""
           }
          },
          "colorscale": {
           "diverging": [
            [
             0,
             "#8e0152"
            ],
            [
             0.1,
             "#c51b7d"
            ],
            [
             0.2,
             "#de77ae"
            ],
            [
             0.3,
             "#f1b6da"
            ],
            [
             0.4,
             "#fde0ef"
            ],
            [
             0.5,
             "#f7f7f7"
            ],
            [
             0.6,
             "#e6f5d0"
            ],
            [
             0.7,
             "#b8e186"
            ],
            [
             0.8,
             "#7fbc41"
            ],
            [
             0.9,
             "#4d9221"
            ],
            [
             1,
             "#276419"
            ]
           ],
           "sequential": [
            [
             0,
             "#0d0887"
            ],
            [
             0.1111111111111111,
             "#46039f"
            ],
            [
             0.2222222222222222,
             "#7201a8"
            ],
            [
             0.3333333333333333,
             "#9c179e"
            ],
            [
             0.4444444444444444,
             "#bd3786"
            ],
            [
             0.5555555555555556,
             "#d8576b"
            ],
            [
             0.6666666666666666,
             "#ed7953"
            ],
            [
             0.7777777777777778,
             "#fb9f3a"
            ],
            [
             0.8888888888888888,
             "#fdca26"
            ],
            [
             1,
             "#f0f921"
            ]
           ],
           "sequentialminus": [
            [
             0,
             "#0d0887"
            ],
            [
             0.1111111111111111,
             "#46039f"
            ],
            [
             0.2222222222222222,
             "#7201a8"
            ],
            [
             0.3333333333333333,
             "#9c179e"
            ],
            [
             0.4444444444444444,
             "#bd3786"
            ],
            [
             0.5555555555555556,
             "#d8576b"
            ],
            [
             0.6666666666666666,
             "#ed7953"
            ],
            [
             0.7777777777777778,
             "#fb9f3a"
            ],
            [
             0.8888888888888888,
             "#fdca26"
            ],
            [
             1,
             "#f0f921"
            ]
           ]
          },
          "colorway": [
           "#636efa",
           "#EF553B",
           "#00cc96",
           "#ab63fa",
           "#FFA15A",
           "#19d3f3",
           "#FF6692",
           "#B6E880",
           "#FF97FF",
           "#FECB52"
          ],
          "font": {
           "color": "#2a3f5f"
          },
          "geo": {
           "bgcolor": "white",
           "lakecolor": "white",
           "landcolor": "#E5ECF6",
           "showlakes": true,
           "showland": true,
           "subunitcolor": "white"
          },
          "hoverlabel": {
           "align": "left"
          },
          "hovermode": "closest",
          "mapbox": {
           "style": "light"
          },
          "paper_bgcolor": "white",
          "plot_bgcolor": "#E5ECF6",
          "polar": {
           "angularaxis": {
            "gridcolor": "white",
            "linecolor": "white",
            "ticks": ""
           },
           "bgcolor": "#E5ECF6",
           "radialaxis": {
            "gridcolor": "white",
            "linecolor": "white",
            "ticks": ""
           }
          },
          "scene": {
           "xaxis": {
            "backgroundcolor": "#E5ECF6",
            "gridcolor": "white",
            "gridwidth": 2,
            "linecolor": "white",
            "showbackground": true,
            "ticks": "",
            "zerolinecolor": "white"
           },
           "yaxis": {
            "backgroundcolor": "#E5ECF6",
            "gridcolor": "white",
            "gridwidth": 2,
            "linecolor": "white",
            "showbackground": true,
            "ticks": "",
            "zerolinecolor": "white"
           },
           "zaxis": {
            "backgroundcolor": "#E5ECF6",
            "gridcolor": "white",
            "gridwidth": 2,
            "linecolor": "white",
            "showbackground": true,
            "ticks": "",
            "zerolinecolor": "white"
           }
          },
          "shapedefaults": {
           "line": {
            "color": "#2a3f5f"
           }
          },
          "ternary": {
           "aaxis": {
            "gridcolor": "white",
            "linecolor": "white",
            "ticks": ""
           },
           "baxis": {
            "gridcolor": "white",
            "linecolor": "white",
            "ticks": ""
           },
           "bgcolor": "#E5ECF6",
           "caxis": {
            "gridcolor": "white",
            "linecolor": "white",
            "ticks": ""
           }
          },
          "title": {
           "x": 0.05
          },
          "xaxis": {
           "automargin": true,
           "gridcolor": "white",
           "linecolor": "white",
           "ticks": "",
           "title": {
            "standoff": 15
           },
           "zerolinecolor": "white",
           "zerolinewidth": 2
          },
          "yaxis": {
           "automargin": true,
           "gridcolor": "white",
           "linecolor": "white",
           "ticks": "",
           "title": {
            "standoff": 15
           },
           "zerolinecolor": "white",
           "zerolinewidth": 2
          }
         }
        },
        "title": {
         "text": "Model Results On Test Data"
        }
       }
      }
     },
     "metadata": {},
     "output_type": "display_data"
    }
   ],
   "source": [
    "fig = go.Figure(data=[go.Table(header=dict(values=['<b>Model<b>', '<b>F1 Score On Test Data<b>'],\n",
    "                                           line_color='darkslategray',\n",
    "    fill_color='whitesmoke',\n",
    "    align=['center','center'],\n",
    "    font=dict(color='black', size=18),\n",
    "    height=40),\n",
    "                               \n",
    "                 cells=dict(values=[['<b>Random Forest<b>', '<b>AdaBoost<b>','<b>SVM<b>'], [np.round(f1(rf_prediction,y_test),2), \n",
    "                                                                          np.round(f1(ada_prediction,y_test),2),\n",
    "                                                                          np.round(f1(svm_prediction,y_test),2)]]))\n",
    "                     ])\n",
    "\n",
    "fig.update_layout(title='Model Results On Test Data')\n",
    "fig.show()"
   ]
  },
  {
   "cell_type": "markdown",
   "metadata": {},
   "source": [
    "https://tylerburleigh.com/blog/predicting-customer-churn-telco-customer-churn/"
   ]
  },
  {
   "cell_type": "code",
   "execution_count": 195,
   "metadata": {},
   "outputs": [],
   "source": [
    "from sklearn.preprocessing import LabelEncoder\n",
    "from sklearn.ensemble import RandomForestClassifier\n",
    "from sklearn.model_selection import RandomizedSearchCV\n",
    "le = LabelEncoder()"
   ]
  },
  {
   "cell_type": "code",
   "execution_count": 202,
   "metadata": {},
   "outputs": [],
   "source": [
    "target = ['CHURN']\n",
    "y = dataset[target]\n",
    "X = dataset.drop(target, axis=1)\n",
    "y = np.ravel(y)\n",
    "X_train, X_test, y_train, y_test = train_test_split(X, y, test_size=test_pct, random_state=42, stratify=y)"
   ]
  },
  {
   "cell_type": "code",
   "execution_count": 204,
   "metadata": {},
   "outputs": [],
   "source": [
    "catvars = X_train.columns.tolist()\n",
    "catvars = [e for e in catvars if e not in ('TOTALCHARGES', 'MONTHLYCHARGES', \n",
    "                                           'TENURE', 'ID')]\n",
    "\n",
    "for x in catvars:\n",
    "    X_train[x] = le.fit_transform(X_train[x])\n",
    "    X_test[x] = le.fit_transform(X_test[x])\n",
    "    \n",
    "y_train = le.fit_transform(y_train)\n",
    "y_test = le.fit_transform(y_test)\n",
    "\n",
    "X_train = X_train.drop(['ID'], axis=1)\n",
    "X_test = X_test.drop(['ID'], axis=1)"
   ]
  },
  {
   "cell_type": "markdown",
   "metadata": {},
   "source": [
    "Model 1 - Kitchen sink"
   ]
  },
  {
   "cell_type": "code",
   "execution_count": 214,
   "metadata": {},
   "outputs": [
    {
     "name": "stdout",
     "output_type": "stream",
     "text": [
      "Fitting 3 folds for each of 500 candidates, totalling 1500 fits\n"
     ]
    },
    {
     "data": {
      "text/plain": [
       "RandomizedSearchCV(cv=3, estimator=RandomForestClassifier(), n_iter=500,\n",
       "                   n_jobs=-1,\n",
       "                   param_distributions={'bootstrap': [True, False],\n",
       "                                        'max_depth': [10, 14, 18, 23, 27, 32,\n",
       "                                                      36, 41, 45, 50],\n",
       "                                        'max_features': ['auto', 'sqrt'],\n",
       "                                        'min_samples_leaf': [2, 3, 4, 5, 6, 7,\n",
       "                                                             8, 9, 11],\n",
       "                                        'min_samples_split': [2, 3, 4, 5, 6, 7,\n",
       "                                                              8, 9, 11],\n",
       "                                        'n_estimators': [10, 20, 30, 40, 50]},\n",
       "                   random_state=42, scoring='accuracy', verbose=2)"
      ]
     },
     "execution_count": 214,
     "metadata": {},
     "output_type": "execute_result"
    }
   ],
   "source": [
    "random_grid = {'n_estimators': [int(x) for x in np.linspace(10, 50, num = 5)],\n",
    "               'max_features': ['auto','sqrt'],\n",
    "               'max_depth': [int(x) for x in np.linspace(10, 50, num = 10)],\n",
    "               'min_samples_split': [int(x) for x in np.linspace(2, 11, num = 9)],\n",
    "               'min_samples_leaf': [int(x) for x in np.linspace(2, 11, num = 9)],\n",
    "               'bootstrap': [True, False]}\n",
    "\n",
    "rf_random = RandomizedSearchCV(estimator = RandomForestClassifier(), \n",
    "                               param_distributions = random_grid, \n",
    "                               n_iter=500, \n",
    "                               cv=3, \n",
    "                               verbose=2, \n",
    "                               random_state=42, \n",
    "                               scoring='accuracy',\n",
    "                               n_jobs = -1)\n",
    "\n",
    "rf_random.fit(X_train, y_train)"
   ]
  },
  {
   "cell_type": "code",
   "execution_count": 215,
   "metadata": {},
   "outputs": [
    {
     "data": {
      "text/plain": [
       "0.8057240406367652"
      ]
     },
     "execution_count": 215,
     "metadata": {},
     "output_type": "execute_result"
    }
   ],
   "source": [
    "rf_random.best_score_"
   ]
  },
  {
   "cell_type": "code",
   "execution_count": 216,
   "metadata": {},
   "outputs": [
    {
     "data": {
      "text/plain": [
       "0.7944038929440389"
      ]
     },
     "execution_count": 216,
     "metadata": {},
     "output_type": "execute_result"
    }
   ],
   "source": [
    "pred = rf_random.predict(X_test)\n",
    "errors = abs(pred - y_test)\n",
    "1 - (sum(errors) / len(X_test.index))"
   ]
  },
  {
   "cell_type": "code",
   "execution_count": 217,
   "metadata": {},
   "outputs": [
    {
     "name": "stdout",
     "output_type": "stream",
     "text": [
      "Accuracy score = 0.7944038929440389\n",
      "Mean absolute error = 0.20559610705596107\n"
     ]
    },
    {
     "data": {
      "image/png": "[encoded data removed]",
      "text/plain": [
       "<Figure size 432x288 with 2 Axes>"
      ]
     },
     "metadata": {
      "needs_background": "light"
     },
     "output_type": "display_data"
    },
    {
     "name": "stdout",
     "output_type": "stream",
     "text": [
      "              precision    recall  f1-score   support\n",
      "\n",
      "    No Churn       0.83      0.90      0.87       606\n",
      "       Churn       0.64      0.49      0.55       216\n",
      "\n",
      "    accuracy                           0.79       822\n",
      "   macro avg       0.74      0.70      0.71       822\n",
      "weighted avg       0.78      0.79      0.78       822\n",
      "\n"
     ]
    }
   ],
   "source": [
    "# Estimativa da acurácia no conjunto de teste\n",
    "print(f'Accuracy score = {accuracy_score(y_test, pred)}')\n",
    "print(f'Mean absolute error = {mean_absolute_error(y_test, pred)}')\n",
    "\n",
    "# Matriz de confusão\n",
    "cm = confusion_matrix(y_test, pred)\n",
    "labels = ['No Churn', 'Churn']\n",
    "cmd = ConfusionMatrixDisplay(cm, display_labels=labels)\n",
    "cmd.plot(values_format='d')\n",
    "plt.show()\n",
    "print(classification_report(y_test, pred, target_names=labels))"
   ]
  },
  {
   "cell_type": "markdown",
   "metadata": {},
   "source": [
    "Model 2 - Reduce feature level redundancy"
   ]
  },
  {
   "cell_type": "code",
   "execution_count": 210,
   "metadata": {},
   "outputs": [
    {
     "name": "stdout",
     "output_type": "stream",
     "text": [
      "Fitting 3 folds for each of 500 candidates, totalling 1500 fits\n"
     ]
    },
    {
     "data": {
      "text/plain": [
       "RandomizedSearchCV(cv=3, estimator=RandomForestClassifier(), n_iter=500,\n",
       "                   n_jobs=-1,\n",
       "                   param_distributions={'bootstrap': [True, False],\n",
       "                                        'max_depth': [10, 14, 18, 23, 27, 32,\n",
       "                                                      36, 41, 45, 50],\n",
       "                                        'max_features': ['auto', 'sqrt'],\n",
       "                                        'min_samples_leaf': [2, 3, 4, 5, 6, 7,\n",
       "                                                             8, 9, 11],\n",
       "                                        'min_samples_split': [2, 3, 4, 5, 6, 7,\n",
       "                                                              8, 9, 11],\n",
       "                                        'n_estimators': [10, 20, 30, 40, 50]},\n",
       "                   random_state=42, scoring='accuracy', verbose=2)"
      ]
     },
     "execution_count": 210,
     "metadata": {},
     "output_type": "execute_result"
    }
   ],
   "source": [
    "df_recode = dataset\n",
    "int_vars = ['ONLINESECURITY', 'ONLINEBACKUP', 'DEVICEPROTECTION', \n",
    "            'TECHSUPPORT', 'STREAMINGTV', 'STREAMINGMOVIES']\n",
    "\n",
    "for x in int_vars:\n",
    "    df_recode.loc[df_recode[x] == 'No internet service', x] = 'No'\n",
    "    \n",
    "X_train, X_test, y_train, y_test = train_test_split(df_recode, \n",
    "                                                    dataset.CHURN, \n",
    "                                                    test_size=0.2, \n",
    "                                                    random_state=42,\n",
    "                                                    stratify=dataset.CHURN)\n",
    "\n",
    "catvars = X_train.columns.tolist()\n",
    "catvars = [e for e in catvars if e not in ('TOTALCHARGES', 'MONTHLYCHARGES', \n",
    "                                           'TENURE', 'ID')]\n",
    "for x in catvars:\n",
    "    X_train[x] = le.fit_transform(X_train[x])\n",
    "    X_test[x] = le.fit_transform(X_test[x])\n",
    "    \n",
    "y_train = le.fit_transform(y_train)\n",
    "y_test = le.fit_transform(y_test)\n",
    "\n",
    "X_train = X_train.drop(['CHURN', 'ID'], axis=1)\n",
    "X_test = X_test.drop(['CHURN', 'ID'], axis=1)\n",
    "\n",
    "rf_random.fit(X_train, y_train)"
   ]
  },
  {
   "cell_type": "code",
   "execution_count": 211,
   "metadata": {},
   "outputs": [
    {
     "data": {
      "text/plain": [
       "0.7895377128953771"
      ]
     },
     "execution_count": 211,
     "metadata": {},
     "output_type": "execute_result"
    }
   ],
   "source": [
    "pred = rf_random.predict(X_test)\n",
    "errors = abs(pred - y_test)\n",
    "1 - (sum(errors) / len(X_test.index))"
   ]
  },
  {
   "cell_type": "code",
   "execution_count": 213,
   "metadata": {},
   "outputs": [
    {
     "name": "stdout",
     "output_type": "stream",
     "text": [
      "Accuracy score = 0.7895377128953771\n",
      "Mean absolute error = 0.21046228710462286\n"
     ]
    },
    {
     "data": {
      "image/png": "[encoded data removed]",
      "text/plain": [
       "<Figure size 432x288 with 2 Axes>"
      ]
     },
     "metadata": {
      "needs_background": "light"
     },
     "output_type": "display_data"
    },
    {
     "name": "stdout",
     "output_type": "stream",
     "text": [
      "              precision    recall  f1-score   support\n",
      "\n",
      "    No Churn       0.83      0.90      0.86       606\n",
      "       Churn       0.63      0.48      0.54       216\n",
      "\n",
      "    accuracy                           0.79       822\n",
      "   macro avg       0.73      0.69      0.70       822\n",
      "weighted avg       0.78      0.79      0.78       822\n",
      "\n"
     ]
    }
   ],
   "source": [
    "# Estimativa da acurácia no conjunto de teste\n",
    "print(f'Accuracy score = {accuracy_score(y_test, pred)}')\n",
    "print(f'Mean absolute error = {mean_absolute_error(y_test, pred)}')\n",
    "\n",
    "# Matriz de confusão\n",
    "cm = confusion_matrix(y_test, pred)\n",
    "labels = ['No Churn', 'Churn']\n",
    "cmd = ConfusionMatrixDisplay(cm, display_labels=labels)\n",
    "cmd.plot(values_format='d')\n",
    "plt.show()\n",
    "print(classification_report(y_test, pred, target_names=labels))"
   ]
  },
  {
   "cell_type": "markdown",
   "metadata": {},
   "source": [
    "### Geração do resultado\n",
    "É preciso rodar tudo de novo, trocando:\n",
    "clean_df = result.copy()"
   ]
  },
  {
   "cell_type": "code",
   "execution_count": null,
   "metadata": {},
   "outputs": [],
   "source": [
    "y_result = model.predict(X)\n",
    "np.bincount(y_result)\n",
    "final = result.copy()\n",
    "final['ALLOW'] = y_result\n",
    "final.to_csv('final.csv', index=False)"
   ]
  }
 ],
 "metadata": {
  "kernelspec": {
   "display_name": "Python 3.8",
   "language": "python",
   "name": "python3"
  },
  "language_info": {
   "codemirror_mode": {
    "name": "ipython",
    "version": 3
   },
   "file_extension": ".py",
   "mimetype": "text/x-python",
   "name": "python",
   "nbconvert_exporter": "python",
   "pygments_lexer": "ipython3",
   "version": "3.9.7"
  }
 },
 "nbformat": 4,
 "nbformat_minor": 1
}
