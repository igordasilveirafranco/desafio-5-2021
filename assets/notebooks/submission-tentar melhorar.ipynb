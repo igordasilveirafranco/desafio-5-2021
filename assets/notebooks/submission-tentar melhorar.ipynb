{
 "cells": [
  {
   "cell_type": "code",
   "execution_count": 204,
   "metadata": {},
   "outputs": [],
   "source": [
    "import pandas as pd\n",
    "import matplotlib.pyplot as plt\n",
    "import seaborn as sns\n",
    "import numpy as np\n",
    "\n",
    "from sklearn.tree import DecisionTreeClassifier, plot_tree\n",
    "from sklearn.model_selection import train_test_split, cross_val_score, GridSearchCV, RandomizedSearchCV\n",
    "from sklearn.metrics import accuracy_score, confusion_matrix, plot_confusion_matrix, ConfusionMatrixDisplay, mean_squared_error, mean_absolute_error, classification_report, roc_auc_score, roc_curve\n",
    "from sklearn.ensemble import RandomForestClassifier, AdaBoostClassifier, GradientBoostingClassifier\n",
    "from sklearn.linear_model import LogisticRegression\n",
    "from sklearn.pipeline import Pipeline\n",
    "from sklearn.preprocessing import StandardScaler\n",
    "from sklearn.metrics import f1_score as f1\n",
    "from sklearn.svm import SVC\n",
    "from plotly.subplots import make_subplots\n",
    "import plotly.express as ex\n",
    "import plotly.graph_objs as go\n",
    "import plotly.figure_factory as ff"
   ]
  },
  {
   "cell_type": "code",
   "execution_count": 218,
   "metadata": {},
   "outputs": [],
   "source": [
    "# Carregue aqui o dataset\n",
    "dataset = pd.read_csv(\"..\\data\\dataset.csv\")\n",
    "answers = pd.read_csv(\"..\\data\\ANSWERS.csv\")"
   ]
  },
  {
   "cell_type": "code",
   "execution_count": 219,
   "metadata": {},
   "outputs": [],
   "source": [
    "# Limpa as linhas inteiras que contem registros Nan\n",
    "\n",
    "# dataset.SENIORCITIZEN = dataset.SENIORCITIZEN.fillna(dataset.SENIORCITIZEN.median())\n",
    "# dataset.PARTNER = dataset.PARTNER.fillna(dataset.PARTNER.median())\n",
    "# dataset.DEPENDENTS = dataset.DEPENDENTS.fillna(dataset.DEPENDENTS.median())\n",
    "# dataset.TENURE = dataset.TENURE.fillna(dataset.TENURE.median())\n",
    "# dataset.INTERNETSERVICE = dataset.INTERNETSERVICE.fillna(dataset.INTERNETSERVICE.median())\n",
    "# dataset.DEVICEPROTECTION = dataset.DEVICEPROTECTION.fillna(dataset.DEVICEPROTECTION.median())\n",
    "# dataset.STREAMINGTV = dataset.STREAMINGTV.fillna(dataset.STREAMINGTV.median())\n",
    "# dataset.STREAMINGMOVIES = dataset.STREAMINGMOVIES.fillna(dataset.STREAMINGMOVIES.median())\n",
    "# dataset.CONTRACT = dataset.CONTRACT.fillna(dataset.CONTRACT.median())\n",
    "# dataset.MONTHLYCHARGES = dataset.MONTHLYCHARGES.fillna(dataset.MONTHLYCHARGES.median())\n",
    "# dataset.TOTALCHARGES = dataset.TOTALCHARGES.fillna(dataset.TOTALCHARGES.median())\n",
    "# dataset.PHONESERVICE = dataset.PHONESERVICE.fillna(dataset.PHONESERVICE.median())\n",
    "# dataset.MULTIPLELINES = dataset.MULTIPLELINES.fillna(dataset.MULTIPLELINES.median())\n",
    "# dataset.ONLINESECURITY = dataset.ONLINESECURITY.fillna(dataset.ONLINESECURITY.median())\n",
    "# dataset.ONLINEBACKUP = dataset.ONLINEBACKUP.fillna(dataset.ONLINEBACKUP.median())\n",
    "# dataset.TECHSUPPORT = dataset.TECHSUPPORT.fillna(dataset.TECHSUPPORT.median())\n",
    "# dataset.PAPERLESSBILLING = dataset.PAPERLESSBILLING.fillna(dataset.PAPERLESSBILLING.median())\n",
    "dataset = dataset.dropna()"
   ]
  },
  {
   "cell_type": "code",
   "execution_count": 220,
   "metadata": {},
   "outputs": [],
   "source": [
    "# Limpa registros que tem espaco - 2268 mean\n",
    "\n",
    "dataset.TOTALCHARGES = dataset.TOTALCHARGES.replace(r'\\s+', 2268, regex=True)\n",
    "dataset.TOTALCHARGES = pd.to_numeric(dataset.TOTALCHARGES)"
   ]
  },
  {
   "cell_type": "code",
   "execution_count": 209,
   "metadata": {},
   "outputs": [
    {
     "data": {
      "text/plain": [
       "<AxesSubplot:>"
      ]
     },
     "execution_count": 209,
     "metadata": {},
     "output_type": "execute_result"
    },
    {
     "data": {
      "image/png": "[encoded data removed]",
      "text/plain": [
       "<Figure size 432x288 with 1 Axes>"
      ]
     },
     "metadata": {
      "needs_background": "light"
     },
     "output_type": "display_data"
    }
   ],
   "source": [
    "sns.heatmap(dataset.isnull(),yticklabels=False,cbar=False)"
   ]
  },
  {
   "cell_type": "code",
   "execution_count": 221,
   "metadata": {},
   "outputs": [],
   "source": [
    "### Normalizando variaveis continuas \n",
    "scale_vars = ['TENURE', 'MONTHLYCHARGES','TOTALCHARGES']\n",
    "scaler = StandardScaler() \n",
    "dataset[scale_vars] = scaler.fit_transform(dataset[scale_vars])"
   ]
  },
  {
   "cell_type": "code",
   "execution_count": 222,
   "metadata": {},
   "outputs": [],
   "source": [
    "from sklearn.preprocessing import OneHotEncoder, OrdinalEncoder, LabelEncoder\n",
    "le = LabelEncoder()\n",
    "# cols = ['GENDER', 'PAYMENTMETHOD']\n",
    "# dataset[cols] = dataset[cols].apply(LabelEncoder().fit_transform)\n",
    "\n",
    "dataset.SENIORCITIZEN = dataset.SENIORCITIZEN.astype('int')\n",
    "dataset.PARTNER = dataset.PARTNER.replace({'No':0,'Yes':1})\n",
    "dataset.DEPENDENTS = dataset.DEPENDENTS.replace({'No':0,'Yes':1})\n",
    "dataset.PHONESERVICE = dataset.PHONESERVICE.replace({'No':0,'Yes':1})\n",
    "# dataset.MULTIPLELINES = dataset.MULTIPLELINES.replace({'No phone service':0,'No':1,'Yes':2})\n",
    "# dataset.INTERNETSERVICE = dataset.INTERNETSERVICE.replace({'No':0,'DSL':1,'Fiber optic':2})\n",
    "# dataset.ONLINESECURITY = dataset.ONLINESECURITY.replace({'No internet service':0, 'No':1,'Yes':2})\n",
    "# dataset.ONLINEBACKUP = dataset.ONLINEBACKUP.replace({'No internet service':0, 'No':1,'Yes':2})\n",
    "# dataset.DEVICEPROTECTION = dataset.DEVICEPROTECTION.replace({'No internet service':0, 'No':1,'Yes':2})\n",
    "# dataset.TECHSUPPORT = dataset.TECHSUPPORT.replace({'No internet service':0, 'No':1,'Yes':2})\n",
    "# dataset.STREAMINGTV = dataset.STREAMINGTV.replace({'No internet service':0, 'No':1,'Yes':2})\n",
    "# dataset.STREAMINGMOVIES = dataset.STREAMINGMOVIES.replace({'No internet service':0, 'No':1,'Yes':2})\n",
    "# dataset.CONTRACT = dataset.CONTRACT.replace({'Month-to-month':0,'One year':1, 'Two year':2})\n",
    "dataset.PAPERLESSBILLING = dataset.PAPERLESSBILLING.replace({'No':0,'Yes':1})\n",
    "dataset.MONTHLYCHARGES = dataset.MONTHLYCHARGES.astype('float')\n",
    "dataset.TOTALCHARGES = dataset.TOTALCHARGES.astype('float')\n",
    "dataset.CHURN = dataset.CHURN.replace({'No':0,'Yes':1})"
   ]
  },
  {
   "cell_type": "code",
   "execution_count": 229,
   "metadata": {},
   "outputs": [
    {
     "ename": "KeyError",
     "evalue": "\"None of [Index(['GENDER', 'PAYMENTMETHOD', 'MULTIPLELINES', 'INTERNETSERVICE',\\n       'ONLINESECURITY', 'ONLINEBACKUP', 'DEVICEPROTECTION', 'TECHSUPPORT',\\n       'STREAMINGTV', 'STREAMINGMOVIES', 'CONTRACT'],\\n      dtype='object')] are in the [columns]\"",
     "output_type": "error",
     "traceback": [
      "\u001b[1;31m---------------------------------------------------------------------------\u001b[0m",
      "\u001b[1;31mKeyError\u001b[0m                                  Traceback (most recent call last)",
      "\u001b[1;32m~\\AppData\\Local\\Temp/ipykernel_28440/2927548020.py\u001b[0m in \u001b[0;36m<module>\u001b[1;34m\u001b[0m\n\u001b[0;32m      1\u001b[0m \u001b[0mcol\u001b[0m \u001b[1;33m=\u001b[0m \u001b[1;33m[\u001b[0m\u001b[1;34m'GENDER'\u001b[0m\u001b[1;33m,\u001b[0m \u001b[1;34m'PAYMENTMETHOD'\u001b[0m\u001b[1;33m,\u001b[0m\u001b[1;34m'MULTIPLELINES'\u001b[0m\u001b[1;33m,\u001b[0m\u001b[1;34m'INTERNETSERVICE'\u001b[0m\u001b[1;33m,\u001b[0m\u001b[1;34m'ONLINESECURITY'\u001b[0m\u001b[1;33m,\u001b[0m\u001b[1;34m'ONLINEBACKUP'\u001b[0m\u001b[1;33m,\u001b[0m\u001b[1;34m'DEVICEPROTECTION'\u001b[0m\u001b[1;33m,\u001b[0m\u001b[1;34m'TECHSUPPORT'\u001b[0m\u001b[1;33m,\u001b[0m\u001b[1;34m'STREAMINGTV'\u001b[0m\u001b[1;33m,\u001b[0m\u001b[1;34m'STREAMINGMOVIES'\u001b[0m\u001b[1;33m,\u001b[0m\u001b[1;34m'CONTRACT'\u001b[0m\u001b[1;33m]\u001b[0m\u001b[1;33m\u001b[0m\u001b[1;33m\u001b[0m\u001b[0m\n\u001b[1;32m----> 2\u001b[1;33m \u001b[0mdataset\u001b[0m \u001b[1;33m=\u001b[0m \u001b[0mpd\u001b[0m\u001b[1;33m.\u001b[0m\u001b[0mget_dummies\u001b[0m\u001b[1;33m(\u001b[0m\u001b[0mdataset\u001b[0m\u001b[1;33m,\u001b[0m \u001b[0mcolumns\u001b[0m\u001b[1;33m=\u001b[0m\u001b[0mcol\u001b[0m\u001b[1;33m)\u001b[0m\u001b[1;33m\u001b[0m\u001b[1;33m\u001b[0m\u001b[0m\n\u001b[0m\u001b[0;32m      3\u001b[0m \u001b[0mdataset\u001b[0m\u001b[1;33m.\u001b[0m\u001b[0mdrop\u001b[0m\u001b[1;33m(\u001b[0m\u001b[0mcol\u001b[0m\u001b[1;33m,\u001b[0m \u001b[0maxis\u001b[0m\u001b[1;33m=\u001b[0m\u001b[1;36m1\u001b[0m\u001b[1;33m,\u001b[0m \u001b[0minplace\u001b[0m\u001b[1;33m=\u001b[0m\u001b[1;32mTrue\u001b[0m\u001b[1;33m)\u001b[0m\u001b[1;33m\u001b[0m\u001b[1;33m\u001b[0m\u001b[0m\n",
      "\u001b[1;32m~\\AppData\\Local\\Packages\\PythonSoftwareFoundation.Python.3.9_qbz5n2kfra8p0\\LocalCache\\local-packages\\Python39\\site-packages\\pandas\\core\\reshape\\reshape.py\u001b[0m in \u001b[0;36mget_dummies\u001b[1;34m(data, prefix, prefix_sep, dummy_na, columns, sparse, drop_first, dtype)\u001b[0m\n\u001b[0;32m    888\u001b[0m             \u001b[1;32mraise\u001b[0m \u001b[0mTypeError\u001b[0m\u001b[1;33m(\u001b[0m\u001b[1;34m\"Input must be a list-like for parameter `columns`\"\u001b[0m\u001b[1;33m)\u001b[0m\u001b[1;33m\u001b[0m\u001b[1;33m\u001b[0m\u001b[0m\n\u001b[0;32m    889\u001b[0m         \u001b[1;32melse\u001b[0m\u001b[1;33m:\u001b[0m\u001b[1;33m\u001b[0m\u001b[1;33m\u001b[0m\u001b[0m\n\u001b[1;32m--> 890\u001b[1;33m             \u001b[0mdata_to_encode\u001b[0m \u001b[1;33m=\u001b[0m \u001b[0mdata\u001b[0m\u001b[1;33m[\u001b[0m\u001b[0mcolumns\u001b[0m\u001b[1;33m]\u001b[0m\u001b[1;33m\u001b[0m\u001b[1;33m\u001b[0m\u001b[0m\n\u001b[0m\u001b[0;32m    891\u001b[0m \u001b[1;33m\u001b[0m\u001b[0m\n\u001b[0;32m    892\u001b[0m         \u001b[1;31m# validate prefixes and separator to avoid silently dropping cols\u001b[0m\u001b[1;33m\u001b[0m\u001b[1;33m\u001b[0m\u001b[0m\n",
      "\u001b[1;32m~\\AppData\\Local\\Packages\\PythonSoftwareFoundation.Python.3.9_qbz5n2kfra8p0\\LocalCache\\local-packages\\Python39\\site-packages\\pandas\\core\\frame.py\u001b[0m in \u001b[0;36m__getitem__\u001b[1;34m(self, key)\u001b[0m\n\u001b[0;32m   3462\u001b[0m             \u001b[1;32mif\u001b[0m \u001b[0mis_iterator\u001b[0m\u001b[1;33m(\u001b[0m\u001b[0mkey\u001b[0m\u001b[1;33m)\u001b[0m\u001b[1;33m:\u001b[0m\u001b[1;33m\u001b[0m\u001b[1;33m\u001b[0m\u001b[0m\n\u001b[0;32m   3463\u001b[0m                 \u001b[0mkey\u001b[0m \u001b[1;33m=\u001b[0m \u001b[0mlist\u001b[0m\u001b[1;33m(\u001b[0m\u001b[0mkey\u001b[0m\u001b[1;33m)\u001b[0m\u001b[1;33m\u001b[0m\u001b[1;33m\u001b[0m\u001b[0m\n\u001b[1;32m-> 3464\u001b[1;33m             \u001b[0mindexer\u001b[0m \u001b[1;33m=\u001b[0m \u001b[0mself\u001b[0m\u001b[1;33m.\u001b[0m\u001b[0mloc\u001b[0m\u001b[1;33m.\u001b[0m\u001b[0m_get_listlike_indexer\u001b[0m\u001b[1;33m(\u001b[0m\u001b[0mkey\u001b[0m\u001b[1;33m,\u001b[0m \u001b[0maxis\u001b[0m\u001b[1;33m=\u001b[0m\u001b[1;36m1\u001b[0m\u001b[1;33m)\u001b[0m\u001b[1;33m[\u001b[0m\u001b[1;36m1\u001b[0m\u001b[1;33m]\u001b[0m\u001b[1;33m\u001b[0m\u001b[1;33m\u001b[0m\u001b[0m\n\u001b[0m\u001b[0;32m   3465\u001b[0m \u001b[1;33m\u001b[0m\u001b[0m\n\u001b[0;32m   3466\u001b[0m         \u001b[1;31m# take() does not accept boolean indexers\u001b[0m\u001b[1;33m\u001b[0m\u001b[1;33m\u001b[0m\u001b[0m\n",
      "\u001b[1;32m~\\AppData\\Local\\Packages\\PythonSoftwareFoundation.Python.3.9_qbz5n2kfra8p0\\LocalCache\\local-packages\\Python39\\site-packages\\pandas\\core\\indexing.py\u001b[0m in \u001b[0;36m_get_listlike_indexer\u001b[1;34m(self, key, axis)\u001b[0m\n\u001b[0;32m   1312\u001b[0m             \u001b[0mkeyarr\u001b[0m\u001b[1;33m,\u001b[0m \u001b[0mindexer\u001b[0m\u001b[1;33m,\u001b[0m \u001b[0mnew_indexer\u001b[0m \u001b[1;33m=\u001b[0m \u001b[0max\u001b[0m\u001b[1;33m.\u001b[0m\u001b[0m_reindex_non_unique\u001b[0m\u001b[1;33m(\u001b[0m\u001b[0mkeyarr\u001b[0m\u001b[1;33m)\u001b[0m\u001b[1;33m\u001b[0m\u001b[1;33m\u001b[0m\u001b[0m\n\u001b[0;32m   1313\u001b[0m \u001b[1;33m\u001b[0m\u001b[0m\n\u001b[1;32m-> 1314\u001b[1;33m         \u001b[0mself\u001b[0m\u001b[1;33m.\u001b[0m\u001b[0m_validate_read_indexer\u001b[0m\u001b[1;33m(\u001b[0m\u001b[0mkeyarr\u001b[0m\u001b[1;33m,\u001b[0m \u001b[0mindexer\u001b[0m\u001b[1;33m,\u001b[0m \u001b[0maxis\u001b[0m\u001b[1;33m)\u001b[0m\u001b[1;33m\u001b[0m\u001b[1;33m\u001b[0m\u001b[0m\n\u001b[0m\u001b[0;32m   1315\u001b[0m \u001b[1;33m\u001b[0m\u001b[0m\n\u001b[0;32m   1316\u001b[0m         if needs_i8_conversion(ax.dtype) or isinstance(\n",
      "\u001b[1;32m~\\AppData\\Local\\Packages\\PythonSoftwareFoundation.Python.3.9_qbz5n2kfra8p0\\LocalCache\\local-packages\\Python39\\site-packages\\pandas\\core\\indexing.py\u001b[0m in \u001b[0;36m_validate_read_indexer\u001b[1;34m(self, key, indexer, axis)\u001b[0m\n\u001b[0;32m   1372\u001b[0m                 \u001b[1;32mif\u001b[0m \u001b[0muse_interval_msg\u001b[0m\u001b[1;33m:\u001b[0m\u001b[1;33m\u001b[0m\u001b[1;33m\u001b[0m\u001b[0m\n\u001b[0;32m   1373\u001b[0m                     \u001b[0mkey\u001b[0m \u001b[1;33m=\u001b[0m \u001b[0mlist\u001b[0m\u001b[1;33m(\u001b[0m\u001b[0mkey\u001b[0m\u001b[1;33m)\u001b[0m\u001b[1;33m\u001b[0m\u001b[1;33m\u001b[0m\u001b[0m\n\u001b[1;32m-> 1374\u001b[1;33m                 \u001b[1;32mraise\u001b[0m \u001b[0mKeyError\u001b[0m\u001b[1;33m(\u001b[0m\u001b[1;34mf\"None of [{key}] are in the [{axis_name}]\"\u001b[0m\u001b[1;33m)\u001b[0m\u001b[1;33m\u001b[0m\u001b[1;33m\u001b[0m\u001b[0m\n\u001b[0m\u001b[0;32m   1375\u001b[0m \u001b[1;33m\u001b[0m\u001b[0m\n\u001b[0;32m   1376\u001b[0m             \u001b[0mnot_found\u001b[0m \u001b[1;33m=\u001b[0m \u001b[0mlist\u001b[0m\u001b[1;33m(\u001b[0m\u001b[0mensure_index\u001b[0m\u001b[1;33m(\u001b[0m\u001b[0mkey\u001b[0m\u001b[1;33m)\u001b[0m\u001b[1;33m[\u001b[0m\u001b[0mmissing_mask\u001b[0m\u001b[1;33m.\u001b[0m\u001b[0mnonzero\u001b[0m\u001b[1;33m(\u001b[0m\u001b[1;33m)\u001b[0m\u001b[1;33m[\u001b[0m\u001b[1;36m0\u001b[0m\u001b[1;33m]\u001b[0m\u001b[1;33m]\u001b[0m\u001b[1;33m.\u001b[0m\u001b[0munique\u001b[0m\u001b[1;33m(\u001b[0m\u001b[1;33m)\u001b[0m\u001b[1;33m)\u001b[0m\u001b[1;33m\u001b[0m\u001b[1;33m\u001b[0m\u001b[0m\n",
      "\u001b[1;31mKeyError\u001b[0m: \"None of [Index(['GENDER', 'PAYMENTMETHOD', 'MULTIPLELINES', 'INTERNETSERVICE',\\n       'ONLINESECURITY', 'ONLINEBACKUP', 'DEVICEPROTECTION', 'TECHSUPPORT',\\n       'STREAMINGTV', 'STREAMINGMOVIES', 'CONTRACT'],\\n      dtype='object')] are in the [columns]\""
     ]
    }
   ],
   "source": [
    "col = ['GENDER', 'PAYMENTMETHOD','MULTIPLELINES','INTERNETSERVICE','ONLINESECURITY','ONLINEBACKUP','DEVICEPROTECTION','TECHSUPPORT','STREAMINGTV','STREAMINGMOVIES','CONTRACT']\n",
    "dataset = pd.get_dummies(dataset, columns=col)\n",
    "dataset.drop(col, axis=1, inplace=True)"
   ]
  },
  {
   "cell_type": "code",
   "execution_count": 230,
   "metadata": {},
   "outputs": [
    {
     "data": {
      "text/plain": [
       "Index(['ID', 'SENIORCITIZEN', 'PARTNER', 'DEPENDENTS', 'TENURE',\n",
       "       'PHONESERVICE', 'PAPERLESSBILLING', 'MONTHLYCHARGES', 'TOTALCHARGES',\n",
       "       'CHURN', 'GENDER_Female', 'GENDER_Male',\n",
       "       'PAYMENTMETHOD_Bank transfer (automatic)',\n",
       "       'PAYMENTMETHOD_Credit card (automatic)',\n",
       "       'PAYMENTMETHOD_Electronic check', 'PAYMENTMETHOD_Mailed check',\n",
       "       'MULTIPLELINES_No', 'MULTIPLELINES_No phone service',\n",
       "       'MULTIPLELINES_Yes', 'INTERNETSERVICE_DSL',\n",
       "       'INTERNETSERVICE_Fiber optic', 'INTERNETSERVICE_No',\n",
       "       'ONLINESECURITY_No', 'ONLINESECURITY_No internet service',\n",
       "       'ONLINESECURITY_Yes', 'ONLINEBACKUP_No',\n",
       "       'ONLINEBACKUP_No internet service', 'ONLINEBACKUP_Yes',\n",
       "       'DEVICEPROTECTION_No', 'DEVICEPROTECTION_No internet service',\n",
       "       'DEVICEPROTECTION_Yes', 'TECHSUPPORT_No',\n",
       "       'TECHSUPPORT_No internet service', 'TECHSUPPORT_Yes', 'STREAMINGTV_No',\n",
       "       'STREAMINGTV_No internet service', 'STREAMINGTV_Yes',\n",
       "       'STREAMINGMOVIES_No', 'STREAMINGMOVIES_No internet service',\n",
       "       'STREAMINGMOVIES_Yes', 'CONTRACT_Month-to-month', 'CONTRACT_One year',\n",
       "       'CONTRACT_Two year'],\n",
       "      dtype='object')"
      ]
     },
     "execution_count": 230,
     "metadata": {},
     "output_type": "execute_result"
    }
   ],
   "source": [
    "dataset.columns"
   ]
  },
  {
   "cell_type": "code",
   "execution_count": 190,
   "metadata": {},
   "outputs": [],
   "source": [
    "# Retira a coluna ID\n",
    "\n",
    "object_columns = ['ID']\n",
    "# object_columns = ['ID', 'TENURE', 'MONTHLYCHARGES', 'TOTALCHARGES']\n",
    "dataset.drop(object_columns, axis=1, inplace=True)"
   ]
  },
  {
   "cell_type": "code",
   "execution_count": 191,
   "metadata": {},
   "outputs": [],
   "source": [
    "target = ['CHURN']\n",
    "y = dataset[target]\n",
    "X = dataset.drop(target, axis=1)\n",
    "y = np.ravel(y)\n",
    "\n",
    "test_pct = 0.3 # Separaremos 30% dos dados para testes\n",
    "X_train, X_test, y_train, y_test = train_test_split(X, y, test_size=test_pct, random_state=42, stratify=y)"
   ]
  },
  {
   "cell_type": "code",
   "execution_count": 192,
   "metadata": {},
   "outputs": [],
   "source": [
    "from imblearn.over_sampling import SMOTE as Smote\n",
    "smt = Smote(random_state=42)\n",
    "X_train, y_train = smt.fit_resample(X_train, y_train)"
   ]
  },
  {
   "cell_type": "code",
   "execution_count": 193,
   "metadata": {},
   "outputs": [
    {
     "data": {
      "text/plain": [
       "RandomForestClassifier(bootstrap=False, criterion='entropy', max_depth=7,\n",
       "                       max_features='log2', min_samples_leaf=2,\n",
       "                       min_samples_split=10, n_estimators=200, n_jobs=11,\n",
       "                       random_state=42)"
      ]
     },
     "execution_count": 193,
     "metadata": {},
     "output_type": "execute_result"
    }
   ],
   "source": [
    "# Com SMOTE deu F1 churn 0.6404907975460123, N-churn 0.82 e acc 0.7621753246753247 (usando  {'No internet service':0, 'No':1,'Yes':2}) e etc ) normalizado\n",
    "# e com media (2269) dos 3 valores que eram string\n",
    "# Acurácia do modelo (com cross validate): 0.8028776933762941\n",
    "# F1 micro: 0.7622\n",
    "# F1 macro: 0.7314\n",
    "# F1 weighted: 0.7746\n",
    "# recall  0.75 e 0.81\n",
    "model = RandomForestClassifier(n_estimators=200, min_samples_leaf=2, max_features=\"log2\", max_depth=7, min_samples_split=10,\n",
    "                                random_state=42, n_jobs=11, criterion='entropy', bootstrap=False)\n",
    "\n",
    "# Com SMOTE deu F1 churn 0.6378244746600742, N-churn 0.82 e acc 0.7621753246753247 (usando  {'No internet service':0, 'No':1,'Yes':2}) e etc ) normalizado\n",
    "# e com 0 nos 3 valores que eram string\n",
    "# Acurácia do modelo (com cross validate): 0.8033609182349226\n",
    "# F1 micro: 0.7622\n",
    "# F1 macro: 0.7304\n",
    "# F1 weighted: 0.7744\n",
    "# recall  0.75 e 0.80\n",
    "\n",
    "model.fit(X_train, y_train)"
   ]
  },
  {
   "cell_type": "code",
   "execution_count": 194,
   "metadata": {},
   "outputs": [
    {
     "name": "stdout",
     "output_type": "stream",
     "text": [
      "Accuracy score = 0.7621753246753247\n",
      "Mean absolute error = 0.23782467532467533\n",
      "F1 = 0.6404907975460123\n"
     ]
    },
    {
     "data": {
      "image/png": "[encoded data removed]",
      "text/plain": [
       "<Figure size 432x288 with 2 Axes>"
      ]
     },
     "metadata": {
      "needs_background": "light"
     },
     "output_type": "display_data"
    },
    {
     "name": "stdout",
     "output_type": "stream",
     "text": [
      "              precision    recall  f1-score   support\n",
      "\n",
      "    No Churn       0.92      0.75      0.82       909\n",
      "       Churn       0.53      0.81      0.64       323\n",
      "\n",
      "    accuracy                           0.76      1232\n",
      "   macro avg       0.72      0.78      0.73      1232\n",
      "weighted avg       0.82      0.76      0.77      1232\n",
      "\n"
     ]
    }
   ],
   "source": [
    "# Estimativa da acurácia no conjunto de teste\n",
    "predictions = model.predict(X_test)\n",
    "print(f'Accuracy score = {accuracy_score(y_test, predictions)}')\n",
    "print(f'Mean absolute error = {mean_absolute_error(y_test, predictions)}')\n",
    "print(f'F1 = {f1(predictions,y_test)}')\n",
    "\n",
    "# Matriz de confusão\n",
    "cm = confusion_matrix(y_test, predictions)\n",
    "labels = ['No Churn', 'Churn']\n",
    "cmd = ConfusionMatrixDisplay(cm, display_labels=labels)\n",
    "cmd.plot(values_format='d')\n",
    "plt.show()\n",
    "print(classification_report(y_test, predictions, target_names=labels))"
   ]
  },
  {
   "cell_type": "code",
   "execution_count": 195,
   "metadata": {},
   "outputs": [
    {
     "name": "stdout",
     "output_type": "stream",
     "text": [
      "Acurácia do modelo (com cross validate): 0.8028776933762941\n"
     ]
    }
   ],
   "source": [
    "from sklearn.model_selection import cross_val_score\n",
    "acc_cv = cross_val_score(model,X_train, y_train,scoring = \"f1_macro\",cv=10)\n",
    "print(f\"Acurácia do modelo (com cross validate): {acc_cv.mean()}\")"
   ]
  },
  {
   "cell_type": "code",
   "execution_count": 196,
   "metadata": {},
   "outputs": [
    {
     "name": "stdout",
     "output_type": "stream",
     "text": [
      "F1 micro: 0.7622\n",
      "F1 macro: 0.7314\n",
      "F1 weighted: 0.7746\n"
     ]
    }
   ],
   "source": [
    "print(\"F1 micro: %1.4f\" % f1(y_test, predictions, average='micro'))\n",
    "print(\"F1 macro: %1.4f\" % f1(y_test, predictions, average='macro'))\n",
    "print(\"F1 weighted: %1.4f\" % f1(y_test, predictions, average='weighted'))"
   ]
  }
 ],
 "metadata": {
  "interpreter": {
   "hash": "5768b446dddade2cb79ed0447ec549b2d93198858daeef376aa9ae96b41a1e93"
  },
  "kernelspec": {
   "display_name": "Python 3.9.7 64-bit (windows store)",
   "language": "python",
   "name": "python3"
  },
  "language_info": {
   "codemirror_mode": {
    "name": "ipython",
    "version": 3
   },
   "file_extension": ".py",
   "mimetype": "text/x-python",
   "name": "python",
   "nbconvert_exporter": "python",
   "pygments_lexer": "ipython3",
   "version": "3.9.7"
  },
  "orig_nbformat": 4
 },
 "nbformat": 4,
 "nbformat_minor": 2
}
