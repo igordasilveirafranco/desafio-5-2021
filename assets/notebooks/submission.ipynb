{
 "cells": [
  {
   "cell_type": "code",
   "execution_count": 2,
   "metadata": {},
   "outputs": [],
   "source": [
    "import pandas as pd\n",
    "import matplotlib.pyplot as plt\n",
    "import seaborn as sns\n",
    "import numpy as np\n",
    "\n",
    "from sklearn.tree import DecisionTreeClassifier, plot_tree\n",
    "from sklearn.model_selection import train_test_split, cross_val_score, GridSearchCV\n",
    "from sklearn.metrics import accuracy_score, confusion_matrix, plot_confusion_matrix, ConfusionMatrixDisplay, mean_squared_error, mean_absolute_error, classification_report, roc_auc_score, roc_curve\n",
    "from sklearn.ensemble import RandomForestClassifier, AdaBoostClassifier, GradientBoostingClassifier\n",
    "from sklearn.linear_model import LogisticRegression\n",
    "from sklearn.pipeline import Pipeline\n",
    "from sklearn.preprocessing import StandardScaler\n",
    "from sklearn.metrics import f1_score as f1\n",
    "from sklearn.svm import SVC\n",
    "from plotly.subplots import make_subplots\n",
    "import plotly.express as ex\n",
    "import plotly.graph_objs as go\n",
    "import plotly.figure_factory as ff"
   ]
  },
  {
   "cell_type": "code",
   "execution_count": 3,
   "metadata": {},
   "outputs": [],
   "source": [
    "# Carregue aqui o dataset\n",
    "dataset = pd.read_csv(\"..\\data\\dataset.csv\")\n",
    "answers = pd.read_csv(\"..\\data\\ANSWERS.csv\")"
   ]
  },
  {
   "cell_type": "code",
   "execution_count": 4,
   "metadata": {},
   "outputs": [],
   "source": [
    "# Limpa as linhas inteiras que contem registros Nan\n",
    "\n",
    "dataset = dataset.dropna()"
   ]
  },
  {
   "cell_type": "code",
   "execution_count": 5,
   "metadata": {},
   "outputs": [],
   "source": [
    "# Limpa registros que tem espaco\n",
    "\n",
    "dataset.TOTALCHARGES = dataset.TOTALCHARGES.replace(r'\\s+', 2268, regex=True)\n",
    "dataset.TOTALCHARGES = pd.to_numeric(dataset.TOTALCHARGES)"
   ]
  },
  {
   "cell_type": "code",
   "execution_count": 6,
   "metadata": {},
   "outputs": [],
   "source": [
    "### Normalizando variaveis continuas \n",
    "scale_vars = ['TENURE', 'MONTHLYCHARGES','TOTALCHARGES']\n",
    "scaler = StandardScaler() \n",
    "dataset[scale_vars] = scaler.fit_transform(dataset[scale_vars])"
   ]
  },
  {
   "cell_type": "code",
   "execution_count": 7,
   "metadata": {},
   "outputs": [],
   "source": [
    "from sklearn.preprocessing import OneHotEncoder, OrdinalEncoder, LabelEncoder\n",
    "le = LabelEncoder()\n",
    "cols = ['GENDER', 'PAYMENTMETHOD']\n",
    "dataset[cols] = dataset[cols].apply(LabelEncoder().fit_transform)\n",
    "\n",
    "dataset.SENIORCITIZEN = dataset.SENIORCITIZEN.astype('int')\n",
    "dataset.PARTNER = dataset.PARTNER.replace({'No':0,'Yes':1})\n",
    "dataset.DEPENDENTS = dataset.DEPENDENTS.replace({'No':0,'Yes':1})\n",
    "dataset.PHONESERVICE = dataset.PHONESERVICE.replace({'No':0,'Yes':1})\n",
    "dataset.MULTIPLELINES = dataset.MULTIPLELINES.replace({'No phone service':0,'No':1,'Yes':2})\n",
    "dataset.INTERNETSERVICE = dataset.INTERNETSERVICE.replace({'No':0,'DSL':1,'Fiber optic':2})\n",
    "dataset.ONLINESECURITY = dataset.ONLINESECURITY.replace({'No internet service':0, 'No':1,'Yes':2})\n",
    "dataset.ONLINEBACKUP = dataset.ONLINEBACKUP.replace({'No internet service':0, 'No':1,'Yes':2})\n",
    "dataset.DEVICEPROTECTION = dataset.DEVICEPROTECTION.replace({'No internet service':0, 'No':1,'Yes':2})\n",
    "dataset.TECHSUPPORT = dataset.TECHSUPPORT.replace({'No internet service':0, 'No':1,'Yes':2})\n",
    "dataset.STREAMINGTV = dataset.STREAMINGTV.replace({'No internet service':0, 'No':1,'Yes':2})\n",
    "dataset.STREAMINGMOVIES = dataset.STREAMINGMOVIES.replace({'No internet service':0, 'No':1,'Yes':2})\n",
    "dataset.CONTRACT = dataset.CONTRACT.replace({'Month-to-month':0,'One year':1, 'Two year':2})\n",
    "dataset.PAPERLESSBILLING = dataset.PAPERLESSBILLING.replace({'No':0,'Yes':1})\n",
    "dataset.MONTHLYCHARGES = dataset.MONTHLYCHARGES.astype('float')\n",
    "dataset.TOTALCHARGES = dataset.TOTALCHARGES.astype('float')\n",
    "dataset.CHURN = dataset.CHURN.replace({'No':0,'Yes':1})"
   ]
  },
  {
   "cell_type": "code",
   "execution_count": 8,
   "metadata": {},
   "outputs": [],
   "source": [
    "# Retira a coluna ID\n",
    "\n",
    "object_columns = ['ID']\n",
    "# object_columns = ['ID', 'TENURE', 'MONTHLYCHARGES', 'TOTALCHARGES']\n",
    "dataset.drop(object_columns, axis=1, inplace=True)"
   ]
  },
  {
   "cell_type": "code",
   "execution_count": 9,
   "metadata": {},
   "outputs": [],
   "source": [
    "target = ['CHURN']\n",
    "y = dataset[target]\n",
    "X = dataset.drop(target, axis=1)\n",
    "y = np.ravel(y)\n",
    "\n",
    "test_pct = 0.3 # Separaremos 30% dos dados para testes\n",
    "X_train, X_test, y_train, y_test = train_test_split(X, y, test_size=test_pct, random_state=42, stratify=y)"
   ]
  },
  {
   "cell_type": "code",
   "execution_count": 10,
   "metadata": {},
   "outputs": [],
   "source": [
    "from imblearn.over_sampling import SMOTE as Smote\n",
    "smt = Smote(random_state=42)\n",
    "X_train, y_train = smt.fit_resample(X_train, y_train)"
   ]
  },
  {
   "cell_type": "code",
   "execution_count": 11,
   "metadata": {},
   "outputs": [
    {
     "data": {
      "text/plain": [
       "RandomForestClassifier(bootstrap=False, criterion='entropy', max_depth=7,\n",
       "                       max_features='log2', min_samples_leaf=2,\n",
       "                       min_samples_split=10, n_estimators=200, n_jobs=11,\n",
       "                       random_state=42)"
      ]
     },
     "execution_count": 11,
     "metadata": {},
     "output_type": "execute_result"
    }
   ],
   "source": [
    "# Com SMOTE deu F1 churn 0.64, N-churn 0.82 e acc 0.76 (usando  {'No internet service':0, 'No':1,'Yes':2}) e etc ) normalizado\n",
    "model = RandomForestClassifier(n_estimators=200, min_samples_leaf=2, max_features=\"log2\", max_depth=7, min_samples_split=10,\n",
    "                                random_state=42, n_jobs=11, criterion='entropy', bootstrap=False)\n",
    "\n",
    "model.fit(X_train, y_train)"
   ]
  },
  {
   "cell_type": "code",
   "execution_count": 12,
   "metadata": {},
   "outputs": [
    {
     "name": "stdout",
     "output_type": "stream",
     "text": [
      "Accuracy score = 0.7621753246753247\n",
      "Mean absolute error = 0.23782467532467533\n",
      "F1 = 0.6404907975460123\n"
     ]
    },
    {
     "data": {
      "image/png": "[encoded data removed]",
      "text/plain": [
       "<Figure size 432x288 with 2 Axes>"
      ]
     },
     "metadata": {
      "needs_background": "light"
     },
     "output_type": "display_data"
    },
    {
     "name": "stdout",
     "output_type": "stream",
     "text": [
      "              precision    recall  f1-score   support\n",
      "\n",
      "    No Churn       0.92      0.75      0.82       909\n",
      "       Churn       0.53      0.81      0.64       323\n",
      "\n",
      "    accuracy                           0.76      1232\n",
      "   macro avg       0.72      0.78      0.73      1232\n",
      "weighted avg       0.82      0.76      0.77      1232\n",
      "\n"
     ]
    }
   ],
   "source": [
    "# Estimativa da acurácia no conjunto de teste\n",
    "predictions = model.predict(X_test)\n",
    "print(f'Accuracy score = {accuracy_score(y_test, predictions)}')\n",
    "print(f'Mean absolute error = {mean_absolute_error(y_test, predictions)}')\n",
    "print(f'F1 = {f1(predictions,y_test)}')\n",
    "\n",
    "# Matriz de confusão\n",
    "cm = confusion_matrix(y_test, predictions)\n",
    "labels = ['No Churn', 'Churn']\n",
    "cmd = ConfusionMatrixDisplay(cm, display_labels=labels)\n",
    "cmd.plot(values_format='d')\n",
    "plt.show()\n",
    "print(classification_report(y_test, predictions, target_names=labels))"
   ]
  },
  {
   "cell_type": "code",
   "execution_count": 13,
   "metadata": {},
   "outputs": [
    {
     "name": "stdout",
     "output_type": "stream",
     "text": [
      "Acurácia do modelo (com cross validate): 0.8028776933762941\n"
     ]
    }
   ],
   "source": [
    "from sklearn.model_selection import cross_val_score\n",
    "acc_cv = cross_val_score(model,X_train, y_train,scoring = \"f1_macro\",cv=10)\n",
    "print(f\"Acurácia do modelo (com cross validate): {acc_cv.mean()}\")"
   ]
  },
  {
   "cell_type": "code",
   "execution_count": 14,
   "metadata": {},
   "outputs": [
    {
     "name": "stdout",
     "output_type": "stream",
     "text": [
      "F1 micro: 0.7622\n",
      "F1 macro: 0.7314\n",
      "F1 weighted: 0.7746\n"
     ]
    }
   ],
   "source": [
    "print(\"F1 micro: %1.4f\" % f1(y_test, predictions, average='micro'))\n",
    "print(\"F1 macro: %1.4f\" % f1(y_test, predictions, average='macro'))\n",
    "print(\"F1 weighted: %1.4f\" % f1(y_test, predictions, average='weighted'))"
   ]
  },
  {
   "cell_type": "code",
   "execution_count": null,
   "metadata": {},
   "outputs": [],
   "source": [
    "y_result = model.predict(X)\n",
    "np.bincount(y_result)\n",
    "final = result.copy()\n",
    "final['CHURN'] = y_result\n",
    "final.to_csv('final.csv', index=False)"
   ]
  }
 ],
 "metadata": {
  "interpreter": {
   "hash": "5768b446dddade2cb79ed0447ec549b2d93198858daeef376aa9ae96b41a1e93"
  },
  "kernelspec": {
   "display_name": "Python 3.9.7 64-bit (windows store)",
   "language": "python",
   "name": "python3"
  },
  "language_info": {
   "codemirror_mode": {
    "name": "ipython",
    "version": 3
   },
   "file_extension": ".py",
   "mimetype": "text/x-python",
   "name": "python",
   "nbconvert_exporter": "python",
   "pygments_lexer": "ipython3",
   "version": "3.9.7"
  },
  "orig_nbformat": 4
 },
 "nbformat": 4,
 "nbformat_minor": 2
}
